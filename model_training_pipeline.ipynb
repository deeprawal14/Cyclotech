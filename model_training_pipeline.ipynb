{
  "cells": [
    {
      "cell_type": "markdown",
      "metadata": {
        "id": "view-in-github",
        "colab_type": "text"
      },
      "source": [
        "<a href=\"https://colab.research.google.com/github/deeprawal14/Cyclotech/blob/main/model_training_pipeline.ipynb\" target=\"_parent\"><img src=\"https://colab.research.google.com/assets/colab-badge.svg\" alt=\"Open In Colab\"/></a>"
      ]
    },
    {
      "cell_type": "code",
      "execution_count": null,
      "metadata": {
        "colab": {
          "base_uri": "https://localhost:8080/"
        },
        "id": "yV7NvZYIvSn3",
        "outputId": "40e69f36-7a8c-45df-a42c-953faebb3e38"
      },
      "outputs": [
        {
          "name": "stdout",
          "output_type": "stream",
          "text": [
            "Mounted at /content/drive\n"
          ]
        }
      ],
      "source": [
        "from google.colab import drive\n",
        "drive.mount('/content/drive')"
      ]
    },
    {
      "cell_type": "code",
      "execution_count": null,
      "metadata": {
        "id": "oXNPb97z19ti"
      },
      "outputs": [],
      "source": [
        "import torch\n",
        "import torch.nn as nn\n",
        "import torchvision\n",
        "from torchvision import transforms\n",
        "from torchsummary import summary\n",
        "import torchvision.transforms as transforms\n",
        "from torch.utils.data import Dataset, DataLoader\n",
        "import matplotlib.pyplot as plt\n",
        "import numpy as np\n",
        "import cv2\n"
      ]
    },
    {
      "cell_type": "code",
      "execution_count": null,
      "metadata": {
        "colab": {
          "base_uri": "https://localhost:8080/"
        },
        "id": "yzLKq_aGhhzQ",
        "outputId": "e8cf6629-5bce-47bd-f812-620e2236ca36"
      },
      "outputs": [
        {
          "name": "stdout",
          "output_type": "stream",
          "text": [
            "unzip:  cannot find or open cyclone_ds.zip, cyclone_ds.zip.zip or cyclone_ds.zip.ZIP.\n"
          ]
        }
      ],
      "source": [
        "!unzip cyclone_ds.zip\n"
      ]
    },
    {
      "cell_type": "code",
      "execution_count": null,
      "metadata": {
        "colab": {
          "base_uri": "https://localhost:8080/",
          "height": 423
        },
        "id": "a6ZKW1F4zvGb",
        "outputId": "bba28b9d-613f-4a74-ffb5-4ff09777e3d7"
      },
      "outputs": [
        {
          "data": {
            "application/vnd.google.colaboratory.intrinsic+json": {
              "summary": "{\n  \"name\": \"pd\",\n  \"rows\": 136,\n  \"fields\": [\n    {\n      \"column\": \"img_name\",\n      \"properties\": {\n        \"dtype\": \"string\",\n        \"num_unique_values\": 136,\n        \"samples\": [\n          \"57(1).jpg\",\n          \"47.jpg\",\n          \"51.jpg\"\n        ],\n        \"semantic_type\": \"\",\n        \"description\": \"\"\n      }\n    },\n    {\n      \"column\": \"label\",\n      \"properties\": {\n        \"dtype\": \"number\",\n        \"std\": 22,\n        \"min\": 25,\n        \"max\": 128,\n        \"num_unique_values\": 66,\n        \"samples\": [\n          94,\n          115,\n          25\n        ],\n        \"semantic_type\": \"\",\n        \"description\": \"\"\n      }\n    }\n  ]\n}",
              "type": "dataframe"
            },
            "text/html": [
              "\n",
              "  <div id=\"df-4fbd0326-f980-4fe6-926a-8573f2a57d70\" class=\"colab-df-container\">\n",
              "    <div>\n",
              "<style scoped>\n",
              "    .dataframe tbody tr th:only-of-type {\n",
              "        vertical-align: middle;\n",
              "    }\n",
              "\n",
              "    .dataframe tbody tr th {\n",
              "        vertical-align: top;\n",
              "    }\n",
              "\n",
              "    .dataframe thead th {\n",
              "        text-align: right;\n",
              "    }\n",
              "</style>\n",
              "<table border=\"1\" class=\"dataframe\">\n",
              "  <thead>\n",
              "    <tr style=\"text-align: right;\">\n",
              "      <th></th>\n",
              "      <th>img_name</th>\n",
              "      <th>label</th>\n",
              "    </tr>\n",
              "  </thead>\n",
              "  <tbody>\n",
              "    <tr>\n",
              "      <th>0</th>\n",
              "      <td>25.jpg</td>\n",
              "      <td>25</td>\n",
              "    </tr>\n",
              "    <tr>\n",
              "      <th>1</th>\n",
              "      <td>27.jpg</td>\n",
              "      <td>27</td>\n",
              "    </tr>\n",
              "    <tr>\n",
              "      <th>2</th>\n",
              "      <td>28.jpg</td>\n",
              "      <td>28</td>\n",
              "    </tr>\n",
              "    <tr>\n",
              "      <th>3</th>\n",
              "      <td>30.jpg</td>\n",
              "      <td>30</td>\n",
              "    </tr>\n",
              "    <tr>\n",
              "      <th>4</th>\n",
              "      <td>30(1).jpg</td>\n",
              "      <td>30</td>\n",
              "    </tr>\n",
              "    <tr>\n",
              "      <th>...</th>\n",
              "      <td>...</td>\n",
              "      <td>...</td>\n",
              "    </tr>\n",
              "    <tr>\n",
              "      <th>131</th>\n",
              "      <td>112.jpg</td>\n",
              "      <td>112</td>\n",
              "    </tr>\n",
              "    <tr>\n",
              "      <th>132</th>\n",
              "      <td>115.jpg</td>\n",
              "      <td>115</td>\n",
              "    </tr>\n",
              "    <tr>\n",
              "      <th>133</th>\n",
              "      <td>118.jpg</td>\n",
              "      <td>118</td>\n",
              "    </tr>\n",
              "    <tr>\n",
              "      <th>134</th>\n",
              "      <td>119.jpg</td>\n",
              "      <td>119</td>\n",
              "    </tr>\n",
              "    <tr>\n",
              "      <th>135</th>\n",
              "      <td>128.jpg</td>\n",
              "      <td>128</td>\n",
              "    </tr>\n",
              "  </tbody>\n",
              "</table>\n",
              "<p>136 rows × 2 columns</p>\n",
              "</div>\n",
              "    <div class=\"colab-df-buttons\">\n",
              "\n",
              "  <div class=\"colab-df-container\">\n",
              "    <button class=\"colab-df-convert\" onclick=\"convertToInteractive('df-4fbd0326-f980-4fe6-926a-8573f2a57d70')\"\n",
              "            title=\"Convert this dataframe to an interactive table.\"\n",
              "            style=\"display:none;\">\n",
              "\n",
              "  <svg xmlns=\"http://www.w3.org/2000/svg\" height=\"24px\" viewBox=\"0 -960 960 960\">\n",
              "    <path d=\"M120-120v-720h720v720H120Zm60-500h600v-160H180v160Zm220 220h160v-160H400v160Zm0 220h160v-160H400v160ZM180-400h160v-160H180v160Zm440 0h160v-160H620v160ZM180-180h160v-160H180v160Zm440 0h160v-160H620v160Z\"/>\n",
              "  </svg>\n",
              "    </button>\n",
              "\n",
              "  <style>\n",
              "    .colab-df-container {\n",
              "      display:flex;\n",
              "      gap: 12px;\n",
              "    }\n",
              "\n",
              "    .colab-df-convert {\n",
              "      background-color: #E8F0FE;\n",
              "      border: none;\n",
              "      border-radius: 50%;\n",
              "      cursor: pointer;\n",
              "      display: none;\n",
              "      fill: #1967D2;\n",
              "      height: 32px;\n",
              "      padding: 0 0 0 0;\n",
              "      width: 32px;\n",
              "    }\n",
              "\n",
              "    .colab-df-convert:hover {\n",
              "      background-color: #E2EBFA;\n",
              "      box-shadow: 0px 1px 2px rgba(60, 64, 67, 0.3), 0px 1px 3px 1px rgba(60, 64, 67, 0.15);\n",
              "      fill: #174EA6;\n",
              "    }\n",
              "\n",
              "    .colab-df-buttons div {\n",
              "      margin-bottom: 4px;\n",
              "    }\n",
              "\n",
              "    [theme=dark] .colab-df-convert {\n",
              "      background-color: #3B4455;\n",
              "      fill: #D2E3FC;\n",
              "    }\n",
              "\n",
              "    [theme=dark] .colab-df-convert:hover {\n",
              "      background-color: #434B5C;\n",
              "      box-shadow: 0px 1px 3px 1px rgba(0, 0, 0, 0.15);\n",
              "      filter: drop-shadow(0px 1px 2px rgba(0, 0, 0, 0.3));\n",
              "      fill: #FFFFFF;\n",
              "    }\n",
              "  </style>\n",
              "\n",
              "    <script>\n",
              "      const buttonEl =\n",
              "        document.querySelector('#df-4fbd0326-f980-4fe6-926a-8573f2a57d70 button.colab-df-convert');\n",
              "      buttonEl.style.display =\n",
              "        google.colab.kernel.accessAllowed ? 'block' : 'none';\n",
              "\n",
              "      async function convertToInteractive(key) {\n",
              "        const element = document.querySelector('#df-4fbd0326-f980-4fe6-926a-8573f2a57d70');\n",
              "        const dataTable =\n",
              "          await google.colab.kernel.invokeFunction('convertToInteractive',\n",
              "                                                    [key], {});\n",
              "        if (!dataTable) return;\n",
              "\n",
              "        const docLinkHtml = 'Like what you see? Visit the ' +\n",
              "          '<a target=\"_blank\" href=https://colab.research.google.com/notebooks/data_table.ipynb>data table notebook</a>'\n",
              "          + ' to learn more about interactive tables.';\n",
              "        element.innerHTML = '';\n",
              "        dataTable['output_type'] = 'display_data';\n",
              "        await google.colab.output.renderOutput(dataTable, element);\n",
              "        const docLink = document.createElement('div');\n",
              "        docLink.innerHTML = docLinkHtml;\n",
              "        element.appendChild(docLink);\n",
              "      }\n",
              "    </script>\n",
              "  </div>\n",
              "\n",
              "\n",
              "<div id=\"df-f42ce388-f66e-4bc1-96cd-483f50a3eb0c\">\n",
              "  <button class=\"colab-df-quickchart\" onclick=\"quickchart('df-f42ce388-f66e-4bc1-96cd-483f50a3eb0c')\"\n",
              "            title=\"Suggest charts\"\n",
              "            style=\"display:none;\">\n",
              "\n",
              "<svg xmlns=\"http://www.w3.org/2000/svg\" height=\"24px\"viewBox=\"0 0 24 24\"\n",
              "     width=\"24px\">\n",
              "    <g>\n",
              "        <path d=\"M19 3H5c-1.1 0-2 .9-2 2v14c0 1.1.9 2 2 2h14c1.1 0 2-.9 2-2V5c0-1.1-.9-2-2-2zM9 17H7v-7h2v7zm4 0h-2V7h2v10zm4 0h-2v-4h2v4z\"/>\n",
              "    </g>\n",
              "</svg>\n",
              "  </button>\n",
              "\n",
              "<style>\n",
              "  .colab-df-quickchart {\n",
              "      --bg-color: #E8F0FE;\n",
              "      --fill-color: #1967D2;\n",
              "      --hover-bg-color: #E2EBFA;\n",
              "      --hover-fill-color: #174EA6;\n",
              "      --disabled-fill-color: #AAA;\n",
              "      --disabled-bg-color: #DDD;\n",
              "  }\n",
              "\n",
              "  [theme=dark] .colab-df-quickchart {\n",
              "      --bg-color: #3B4455;\n",
              "      --fill-color: #D2E3FC;\n",
              "      --hover-bg-color: #434B5C;\n",
              "      --hover-fill-color: #FFFFFF;\n",
              "      --disabled-bg-color: #3B4455;\n",
              "      --disabled-fill-color: #666;\n",
              "  }\n",
              "\n",
              "  .colab-df-quickchart {\n",
              "    background-color: var(--bg-color);\n",
              "    border: none;\n",
              "    border-radius: 50%;\n",
              "    cursor: pointer;\n",
              "    display: none;\n",
              "    fill: var(--fill-color);\n",
              "    height: 32px;\n",
              "    padding: 0;\n",
              "    width: 32px;\n",
              "  }\n",
              "\n",
              "  .colab-df-quickchart:hover {\n",
              "    background-color: var(--hover-bg-color);\n",
              "    box-shadow: 0 1px 2px rgba(60, 64, 67, 0.3), 0 1px 3px 1px rgba(60, 64, 67, 0.15);\n",
              "    fill: var(--button-hover-fill-color);\n",
              "  }\n",
              "\n",
              "  .colab-df-quickchart-complete:disabled,\n",
              "  .colab-df-quickchart-complete:disabled:hover {\n",
              "    background-color: var(--disabled-bg-color);\n",
              "    fill: var(--disabled-fill-color);\n",
              "    box-shadow: none;\n",
              "  }\n",
              "\n",
              "  .colab-df-spinner {\n",
              "    border: 2px solid var(--fill-color);\n",
              "    border-color: transparent;\n",
              "    border-bottom-color: var(--fill-color);\n",
              "    animation:\n",
              "      spin 1s steps(1) infinite;\n",
              "  }\n",
              "\n",
              "  @keyframes spin {\n",
              "    0% {\n",
              "      border-color: transparent;\n",
              "      border-bottom-color: var(--fill-color);\n",
              "      border-left-color: var(--fill-color);\n",
              "    }\n",
              "    20% {\n",
              "      border-color: transparent;\n",
              "      border-left-color: var(--fill-color);\n",
              "      border-top-color: var(--fill-color);\n",
              "    }\n",
              "    30% {\n",
              "      border-color: transparent;\n",
              "      border-left-color: var(--fill-color);\n",
              "      border-top-color: var(--fill-color);\n",
              "      border-right-color: var(--fill-color);\n",
              "    }\n",
              "    40% {\n",
              "      border-color: transparent;\n",
              "      border-right-color: var(--fill-color);\n",
              "      border-top-color: var(--fill-color);\n",
              "    }\n",
              "    60% {\n",
              "      border-color: transparent;\n",
              "      border-right-color: var(--fill-color);\n",
              "    }\n",
              "    80% {\n",
              "      border-color: transparent;\n",
              "      border-right-color: var(--fill-color);\n",
              "      border-bottom-color: var(--fill-color);\n",
              "    }\n",
              "    90% {\n",
              "      border-color: transparent;\n",
              "      border-bottom-color: var(--fill-color);\n",
              "    }\n",
              "  }\n",
              "</style>\n",
              "\n",
              "  <script>\n",
              "    async function quickchart(key) {\n",
              "      const quickchartButtonEl =\n",
              "        document.querySelector('#' + key + ' button');\n",
              "      quickchartButtonEl.disabled = true;  // To prevent multiple clicks.\n",
              "      quickchartButtonEl.classList.add('colab-df-spinner');\n",
              "      try {\n",
              "        const charts = await google.colab.kernel.invokeFunction(\n",
              "            'suggestCharts', [key], {});\n",
              "      } catch (error) {\n",
              "        console.error('Error during call to suggestCharts:', error);\n",
              "      }\n",
              "      quickchartButtonEl.classList.remove('colab-df-spinner');\n",
              "      quickchartButtonEl.classList.add('colab-df-quickchart-complete');\n",
              "    }\n",
              "    (() => {\n",
              "      let quickchartButtonEl =\n",
              "        document.querySelector('#df-f42ce388-f66e-4bc1-96cd-483f50a3eb0c button');\n",
              "      quickchartButtonEl.style.display =\n",
              "        google.colab.kernel.accessAllowed ? 'block' : 'none';\n",
              "    })();\n",
              "  </script>\n",
              "</div>\n",
              "\n",
              "    </div>\n",
              "  </div>\n"
            ],
            "text/plain": [
              "      img_name  label\n",
              "0       25.jpg     25\n",
              "1       27.jpg     27\n",
              "2       28.jpg     28\n",
              "3       30.jpg     30\n",
              "4    30(1).jpg     30\n",
              "..         ...    ...\n",
              "131    112.jpg    112\n",
              "132    115.jpg    115\n",
              "133    118.jpg    118\n",
              "134    119.jpg    119\n",
              "135    128.jpg    128\n",
              "\n",
              "[136 rows x 2 columns]"
            ]
          },
          "execution_count": 4,
          "metadata": {},
          "output_type": "execute_result"
        }
      ],
      "source": [
        "import pandas as pd\n",
        "pd.read_csv(\"/content/drive/MyDrive/Cyclotech/insat_3d_ds - Sheet.csv\")"
      ]
    },
    {
      "cell_type": "code",
      "execution_count": null,
      "metadata": {
        "id": "DsOvCmiy1OOg"
      },
      "outputs": [],
      "source": [
        "TRAIN_DIR = \"/content/drive/MyDrive/Cyclotech/insat3d_ir_cyclone_ds/CYCLONE_DATASET_INFRARED\"\n",
        "ROOT_DIR = \"/content/drive/MyDrive/Cyclotech\""
      ]
    },
    {
      "cell_type": "code",
      "execution_count": null,
      "metadata": {
        "id": "RT6DFctm1J1R"
      },
      "outputs": [],
      "source": [
        "def get_train_file_path(id):\n",
        "    return f\"{TRAIN_DIR}/{id}\""
      ]
    },
    {
      "cell_type": "code",
      "execution_count": null,
      "metadata": {
        "id": "8s8GwUZW1Wte"
      },
      "outputs": [],
      "source": [
        "df = pd.read_csv(f\"{ROOT_DIR}/insat_3d_ds - Sheet.csv\")\n",
        "df['file_path'] = df['img_name'].apply(get_train_file_path)"
      ]
    },
    {
      "cell_type": "code",
      "execution_count": null,
      "metadata": {
        "colab": {
          "base_uri": "https://localhost:8080/",
          "height": 423
        },
        "id": "E62LkLyA1qLl",
        "outputId": "a4f58673-d17e-4666-e778-be3ce9479ad1"
      },
      "outputs": [
        {
          "data": {
            "application/vnd.google.colaboratory.intrinsic+json": {
              "summary": "{\n  \"name\": \"df\",\n  \"rows\": 136,\n  \"fields\": [\n    {\n      \"column\": \"img_name\",\n      \"properties\": {\n        \"dtype\": \"string\",\n        \"num_unique_values\": 136,\n        \"samples\": [\n          \"57(1).jpg\",\n          \"47.jpg\",\n          \"51.jpg\"\n        ],\n        \"semantic_type\": \"\",\n        \"description\": \"\"\n      }\n    },\n    {\n      \"column\": \"label\",\n      \"properties\": {\n        \"dtype\": \"number\",\n        \"std\": 22,\n        \"min\": 25,\n        \"max\": 128,\n        \"num_unique_values\": 66,\n        \"samples\": [\n          94,\n          115,\n          25\n        ],\n        \"semantic_type\": \"\",\n        \"description\": \"\"\n      }\n    },\n    {\n      \"column\": \"file_path\",\n      \"properties\": {\n        \"dtype\": \"string\",\n        \"num_unique_values\": 136,\n        \"samples\": [\n          \"/content/drive/MyDrive/Cyclotech/insat3d_ir_cyclone_ds/CYCLONE_DATASET_INFRARED/57(1).jpg\",\n          \"/content/drive/MyDrive/Cyclotech/insat3d_ir_cyclone_ds/CYCLONE_DATASET_INFRARED/47.jpg\",\n          \"/content/drive/MyDrive/Cyclotech/insat3d_ir_cyclone_ds/CYCLONE_DATASET_INFRARED/51.jpg\"\n        ],\n        \"semantic_type\": \"\",\n        \"description\": \"\"\n      }\n    }\n  ]\n}",
              "type": "dataframe",
              "variable_name": "df"
            },
            "text/html": [
              "\n",
              "  <div id=\"df-9efe7aed-2085-4b0f-9332-ca35f886774d\" class=\"colab-df-container\">\n",
              "    <div>\n",
              "<style scoped>\n",
              "    .dataframe tbody tr th:only-of-type {\n",
              "        vertical-align: middle;\n",
              "    }\n",
              "\n",
              "    .dataframe tbody tr th {\n",
              "        vertical-align: top;\n",
              "    }\n",
              "\n",
              "    .dataframe thead th {\n",
              "        text-align: right;\n",
              "    }\n",
              "</style>\n",
              "<table border=\"1\" class=\"dataframe\">\n",
              "  <thead>\n",
              "    <tr style=\"text-align: right;\">\n",
              "      <th></th>\n",
              "      <th>img_name</th>\n",
              "      <th>label</th>\n",
              "      <th>file_path</th>\n",
              "    </tr>\n",
              "  </thead>\n",
              "  <tbody>\n",
              "    <tr>\n",
              "      <th>0</th>\n",
              "      <td>25.jpg</td>\n",
              "      <td>25</td>\n",
              "      <td>/content/drive/MyDrive/Cyclotech/insat3d_ir_cy...</td>\n",
              "    </tr>\n",
              "    <tr>\n",
              "      <th>1</th>\n",
              "      <td>27.jpg</td>\n",
              "      <td>27</td>\n",
              "      <td>/content/drive/MyDrive/Cyclotech/insat3d_ir_cy...</td>\n",
              "    </tr>\n",
              "    <tr>\n",
              "      <th>2</th>\n",
              "      <td>28.jpg</td>\n",
              "      <td>28</td>\n",
              "      <td>/content/drive/MyDrive/Cyclotech/insat3d_ir_cy...</td>\n",
              "    </tr>\n",
              "    <tr>\n",
              "      <th>3</th>\n",
              "      <td>30.jpg</td>\n",
              "      <td>30</td>\n",
              "      <td>/content/drive/MyDrive/Cyclotech/insat3d_ir_cy...</td>\n",
              "    </tr>\n",
              "    <tr>\n",
              "      <th>4</th>\n",
              "      <td>30(1).jpg</td>\n",
              "      <td>30</td>\n",
              "      <td>/content/drive/MyDrive/Cyclotech/insat3d_ir_cy...</td>\n",
              "    </tr>\n",
              "    <tr>\n",
              "      <th>...</th>\n",
              "      <td>...</td>\n",
              "      <td>...</td>\n",
              "      <td>...</td>\n",
              "    </tr>\n",
              "    <tr>\n",
              "      <th>131</th>\n",
              "      <td>112.jpg</td>\n",
              "      <td>112</td>\n",
              "      <td>/content/drive/MyDrive/Cyclotech/insat3d_ir_cy...</td>\n",
              "    </tr>\n",
              "    <tr>\n",
              "      <th>132</th>\n",
              "      <td>115.jpg</td>\n",
              "      <td>115</td>\n",
              "      <td>/content/drive/MyDrive/Cyclotech/insat3d_ir_cy...</td>\n",
              "    </tr>\n",
              "    <tr>\n",
              "      <th>133</th>\n",
              "      <td>118.jpg</td>\n",
              "      <td>118</td>\n",
              "      <td>/content/drive/MyDrive/Cyclotech/insat3d_ir_cy...</td>\n",
              "    </tr>\n",
              "    <tr>\n",
              "      <th>134</th>\n",
              "      <td>119.jpg</td>\n",
              "      <td>119</td>\n",
              "      <td>/content/drive/MyDrive/Cyclotech/insat3d_ir_cy...</td>\n",
              "    </tr>\n",
              "    <tr>\n",
              "      <th>135</th>\n",
              "      <td>128.jpg</td>\n",
              "      <td>128</td>\n",
              "      <td>/content/drive/MyDrive/Cyclotech/insat3d_ir_cy...</td>\n",
              "    </tr>\n",
              "  </tbody>\n",
              "</table>\n",
              "<p>136 rows × 3 columns</p>\n",
              "</div>\n",
              "    <div class=\"colab-df-buttons\">\n",
              "\n",
              "  <div class=\"colab-df-container\">\n",
              "    <button class=\"colab-df-convert\" onclick=\"convertToInteractive('df-9efe7aed-2085-4b0f-9332-ca35f886774d')\"\n",
              "            title=\"Convert this dataframe to an interactive table.\"\n",
              "            style=\"display:none;\">\n",
              "\n",
              "  <svg xmlns=\"http://www.w3.org/2000/svg\" height=\"24px\" viewBox=\"0 -960 960 960\">\n",
              "    <path d=\"M120-120v-720h720v720H120Zm60-500h600v-160H180v160Zm220 220h160v-160H400v160Zm0 220h160v-160H400v160ZM180-400h160v-160H180v160Zm440 0h160v-160H620v160ZM180-180h160v-160H180v160Zm440 0h160v-160H620v160Z\"/>\n",
              "  </svg>\n",
              "    </button>\n",
              "\n",
              "  <style>\n",
              "    .colab-df-container {\n",
              "      display:flex;\n",
              "      gap: 12px;\n",
              "    }\n",
              "\n",
              "    .colab-df-convert {\n",
              "      background-color: #E8F0FE;\n",
              "      border: none;\n",
              "      border-radius: 50%;\n",
              "      cursor: pointer;\n",
              "      display: none;\n",
              "      fill: #1967D2;\n",
              "      height: 32px;\n",
              "      padding: 0 0 0 0;\n",
              "      width: 32px;\n",
              "    }\n",
              "\n",
              "    .colab-df-convert:hover {\n",
              "      background-color: #E2EBFA;\n",
              "      box-shadow: 0px 1px 2px rgba(60, 64, 67, 0.3), 0px 1px 3px 1px rgba(60, 64, 67, 0.15);\n",
              "      fill: #174EA6;\n",
              "    }\n",
              "\n",
              "    .colab-df-buttons div {\n",
              "      margin-bottom: 4px;\n",
              "    }\n",
              "\n",
              "    [theme=dark] .colab-df-convert {\n",
              "      background-color: #3B4455;\n",
              "      fill: #D2E3FC;\n",
              "    }\n",
              "\n",
              "    [theme=dark] .colab-df-convert:hover {\n",
              "      background-color: #434B5C;\n",
              "      box-shadow: 0px 1px 3px 1px rgba(0, 0, 0, 0.15);\n",
              "      filter: drop-shadow(0px 1px 2px rgba(0, 0, 0, 0.3));\n",
              "      fill: #FFFFFF;\n",
              "    }\n",
              "  </style>\n",
              "\n",
              "    <script>\n",
              "      const buttonEl =\n",
              "        document.querySelector('#df-9efe7aed-2085-4b0f-9332-ca35f886774d button.colab-df-convert');\n",
              "      buttonEl.style.display =\n",
              "        google.colab.kernel.accessAllowed ? 'block' : 'none';\n",
              "\n",
              "      async function convertToInteractive(key) {\n",
              "        const element = document.querySelector('#df-9efe7aed-2085-4b0f-9332-ca35f886774d');\n",
              "        const dataTable =\n",
              "          await google.colab.kernel.invokeFunction('convertToInteractive',\n",
              "                                                    [key], {});\n",
              "        if (!dataTable) return;\n",
              "\n",
              "        const docLinkHtml = 'Like what you see? Visit the ' +\n",
              "          '<a target=\"_blank\" href=https://colab.research.google.com/notebooks/data_table.ipynb>data table notebook</a>'\n",
              "          + ' to learn more about interactive tables.';\n",
              "        element.innerHTML = '';\n",
              "        dataTable['output_type'] = 'display_data';\n",
              "        await google.colab.output.renderOutput(dataTable, element);\n",
              "        const docLink = document.createElement('div');\n",
              "        docLink.innerHTML = docLinkHtml;\n",
              "        element.appendChild(docLink);\n",
              "      }\n",
              "    </script>\n",
              "  </div>\n",
              "\n",
              "\n",
              "<div id=\"df-4973c9c6-1c7a-4a1b-a999-9be5cdcb26f9\">\n",
              "  <button class=\"colab-df-quickchart\" onclick=\"quickchart('df-4973c9c6-1c7a-4a1b-a999-9be5cdcb26f9')\"\n",
              "            title=\"Suggest charts\"\n",
              "            style=\"display:none;\">\n",
              "\n",
              "<svg xmlns=\"http://www.w3.org/2000/svg\" height=\"24px\"viewBox=\"0 0 24 24\"\n",
              "     width=\"24px\">\n",
              "    <g>\n",
              "        <path d=\"M19 3H5c-1.1 0-2 .9-2 2v14c0 1.1.9 2 2 2h14c1.1 0 2-.9 2-2V5c0-1.1-.9-2-2-2zM9 17H7v-7h2v7zm4 0h-2V7h2v10zm4 0h-2v-4h2v4z\"/>\n",
              "    </g>\n",
              "</svg>\n",
              "  </button>\n",
              "\n",
              "<style>\n",
              "  .colab-df-quickchart {\n",
              "      --bg-color: #E8F0FE;\n",
              "      --fill-color: #1967D2;\n",
              "      --hover-bg-color: #E2EBFA;\n",
              "      --hover-fill-color: #174EA6;\n",
              "      --disabled-fill-color: #AAA;\n",
              "      --disabled-bg-color: #DDD;\n",
              "  }\n",
              "\n",
              "  [theme=dark] .colab-df-quickchart {\n",
              "      --bg-color: #3B4455;\n",
              "      --fill-color: #D2E3FC;\n",
              "      --hover-bg-color: #434B5C;\n",
              "      --hover-fill-color: #FFFFFF;\n",
              "      --disabled-bg-color: #3B4455;\n",
              "      --disabled-fill-color: #666;\n",
              "  }\n",
              "\n",
              "  .colab-df-quickchart {\n",
              "    background-color: var(--bg-color);\n",
              "    border: none;\n",
              "    border-radius: 50%;\n",
              "    cursor: pointer;\n",
              "    display: none;\n",
              "    fill: var(--fill-color);\n",
              "    height: 32px;\n",
              "    padding: 0;\n",
              "    width: 32px;\n",
              "  }\n",
              "\n",
              "  .colab-df-quickchart:hover {\n",
              "    background-color: var(--hover-bg-color);\n",
              "    box-shadow: 0 1px 2px rgba(60, 64, 67, 0.3), 0 1px 3px 1px rgba(60, 64, 67, 0.15);\n",
              "    fill: var(--button-hover-fill-color);\n",
              "  }\n",
              "\n",
              "  .colab-df-quickchart-complete:disabled,\n",
              "  .colab-df-quickchart-complete:disabled:hover {\n",
              "    background-color: var(--disabled-bg-color);\n",
              "    fill: var(--disabled-fill-color);\n",
              "    box-shadow: none;\n",
              "  }\n",
              "\n",
              "  .colab-df-spinner {\n",
              "    border: 2px solid var(--fill-color);\n",
              "    border-color: transparent;\n",
              "    border-bottom-color: var(--fill-color);\n",
              "    animation:\n",
              "      spin 1s steps(1) infinite;\n",
              "  }\n",
              "\n",
              "  @keyframes spin {\n",
              "    0% {\n",
              "      border-color: transparent;\n",
              "      border-bottom-color: var(--fill-color);\n",
              "      border-left-color: var(--fill-color);\n",
              "    }\n",
              "    20% {\n",
              "      border-color: transparent;\n",
              "      border-left-color: var(--fill-color);\n",
              "      border-top-color: var(--fill-color);\n",
              "    }\n",
              "    30% {\n",
              "      border-color: transparent;\n",
              "      border-left-color: var(--fill-color);\n",
              "      border-top-color: var(--fill-color);\n",
              "      border-right-color: var(--fill-color);\n",
              "    }\n",
              "    40% {\n",
              "      border-color: transparent;\n",
              "      border-right-color: var(--fill-color);\n",
              "      border-top-color: var(--fill-color);\n",
              "    }\n",
              "    60% {\n",
              "      border-color: transparent;\n",
              "      border-right-color: var(--fill-color);\n",
              "    }\n",
              "    80% {\n",
              "      border-color: transparent;\n",
              "      border-right-color: var(--fill-color);\n",
              "      border-bottom-color: var(--fill-color);\n",
              "    }\n",
              "    90% {\n",
              "      border-color: transparent;\n",
              "      border-bottom-color: var(--fill-color);\n",
              "    }\n",
              "  }\n",
              "</style>\n",
              "\n",
              "  <script>\n",
              "    async function quickchart(key) {\n",
              "      const quickchartButtonEl =\n",
              "        document.querySelector('#' + key + ' button');\n",
              "      quickchartButtonEl.disabled = true;  // To prevent multiple clicks.\n",
              "      quickchartButtonEl.classList.add('colab-df-spinner');\n",
              "      try {\n",
              "        const charts = await google.colab.kernel.invokeFunction(\n",
              "            'suggestCharts', [key], {});\n",
              "      } catch (error) {\n",
              "        console.error('Error during call to suggestCharts:', error);\n",
              "      }\n",
              "      quickchartButtonEl.classList.remove('colab-df-spinner');\n",
              "      quickchartButtonEl.classList.add('colab-df-quickchart-complete');\n",
              "    }\n",
              "    (() => {\n",
              "      let quickchartButtonEl =\n",
              "        document.querySelector('#df-4973c9c6-1c7a-4a1b-a999-9be5cdcb26f9 button');\n",
              "      quickchartButtonEl.style.display =\n",
              "        google.colab.kernel.accessAllowed ? 'block' : 'none';\n",
              "    })();\n",
              "  </script>\n",
              "</div>\n",
              "\n",
              "  <div id=\"id_e53c2ff9-9f83-43d8-b2b1-718daeadafb2\">\n",
              "    <style>\n",
              "      .colab-df-generate {\n",
              "        background-color: #E8F0FE;\n",
              "        border: none;\n",
              "        border-radius: 50%;\n",
              "        cursor: pointer;\n",
              "        display: none;\n",
              "        fill: #1967D2;\n",
              "        height: 32px;\n",
              "        padding: 0 0 0 0;\n",
              "        width: 32px;\n",
              "      }\n",
              "\n",
              "      .colab-df-generate:hover {\n",
              "        background-color: #E2EBFA;\n",
              "        box-shadow: 0px 1px 2px rgba(60, 64, 67, 0.3), 0px 1px 3px 1px rgba(60, 64, 67, 0.15);\n",
              "        fill: #174EA6;\n",
              "      }\n",
              "\n",
              "      [theme=dark] .colab-df-generate {\n",
              "        background-color: #3B4455;\n",
              "        fill: #D2E3FC;\n",
              "      }\n",
              "\n",
              "      [theme=dark] .colab-df-generate:hover {\n",
              "        background-color: #434B5C;\n",
              "        box-shadow: 0px 1px 3px 1px rgba(0, 0, 0, 0.15);\n",
              "        filter: drop-shadow(0px 1px 2px rgba(0, 0, 0, 0.3));\n",
              "        fill: #FFFFFF;\n",
              "      }\n",
              "    </style>\n",
              "    <button class=\"colab-df-generate\" onclick=\"generateWithVariable('df')\"\n",
              "            title=\"Generate code using this dataframe.\"\n",
              "            style=\"display:none;\">\n",
              "\n",
              "  <svg xmlns=\"http://www.w3.org/2000/svg\" height=\"24px\"viewBox=\"0 0 24 24\"\n",
              "       width=\"24px\">\n",
              "    <path d=\"M7,19H8.4L18.45,9,17,7.55,7,17.6ZM5,21V16.75L18.45,3.32a2,2,0,0,1,2.83,0l1.4,1.43a1.91,1.91,0,0,1,.58,1.4,1.91,1.91,0,0,1-.58,1.4L9.25,21ZM18.45,9,17,7.55Zm-12,3A5.31,5.31,0,0,0,4.9,8.1,5.31,5.31,0,0,0,1,6.5,5.31,5.31,0,0,0,4.9,4.9,5.31,5.31,0,0,0,6.5,1,5.31,5.31,0,0,0,8.1,4.9,5.31,5.31,0,0,0,12,6.5,5.46,5.46,0,0,0,6.5,12Z\"/>\n",
              "  </svg>\n",
              "    </button>\n",
              "    <script>\n",
              "      (() => {\n",
              "      const buttonEl =\n",
              "        document.querySelector('#id_e53c2ff9-9f83-43d8-b2b1-718daeadafb2 button.colab-df-generate');\n",
              "      buttonEl.style.display =\n",
              "        google.colab.kernel.accessAllowed ? 'block' : 'none';\n",
              "\n",
              "      buttonEl.onclick = () => {\n",
              "        google.colab.notebook.generateWithVariable('df');\n",
              "      }\n",
              "      })();\n",
              "    </script>\n",
              "  </div>\n",
              "\n",
              "    </div>\n",
              "  </div>\n"
            ],
            "text/plain": [
              "      img_name  label                                          file_path\n",
              "0       25.jpg     25  /content/drive/MyDrive/Cyclotech/insat3d_ir_cy...\n",
              "1       27.jpg     27  /content/drive/MyDrive/Cyclotech/insat3d_ir_cy...\n",
              "2       28.jpg     28  /content/drive/MyDrive/Cyclotech/insat3d_ir_cy...\n",
              "3       30.jpg     30  /content/drive/MyDrive/Cyclotech/insat3d_ir_cy...\n",
              "4    30(1).jpg     30  /content/drive/MyDrive/Cyclotech/insat3d_ir_cy...\n",
              "..         ...    ...                                                ...\n",
              "131    112.jpg    112  /content/drive/MyDrive/Cyclotech/insat3d_ir_cy...\n",
              "132    115.jpg    115  /content/drive/MyDrive/Cyclotech/insat3d_ir_cy...\n",
              "133    118.jpg    118  /content/drive/MyDrive/Cyclotech/insat3d_ir_cy...\n",
              "134    119.jpg    119  /content/drive/MyDrive/Cyclotech/insat3d_ir_cy...\n",
              "135    128.jpg    128  /content/drive/MyDrive/Cyclotech/insat3d_ir_cy...\n",
              "\n",
              "[136 rows x 3 columns]"
            ]
          },
          "execution_count": 8,
          "metadata": {},
          "output_type": "execute_result"
        }
      ],
      "source": [
        "df"
      ]
    },
    {
      "cell_type": "code",
      "execution_count": null,
      "metadata": {
        "id": "uvZ9YtDktD_I"
      },
      "outputs": [],
      "source": [
        "df = df.drop([df.index[32] , df.index[116], df.index[124]])"
      ]
    },
    {
      "cell_type": "code",
      "execution_count": null,
      "metadata": {
        "colab": {
          "base_uri": "https://localhost:8080/",
          "height": 423
        },
        "id": "EYN4anakuC_A",
        "outputId": "a5880092-cd40-4020-c391-ea89247dc12c"
      },
      "outputs": [
        {
          "data": {
            "application/vnd.google.colaboratory.intrinsic+json": {
              "summary": "{\n  \"name\": \"df\",\n  \"rows\": 133,\n  \"fields\": [\n    {\n      \"column\": \"img_name\",\n      \"properties\": {\n        \"dtype\": \"string\",\n        \"num_unique_values\": 133,\n        \"samples\": [\n          \"48(2).jpg\",\n          \"55(2).jpg\",\n          \"43.jpg\"\n        ],\n        \"semantic_type\": \"\",\n        \"description\": \"\"\n      }\n    },\n    {\n      \"column\": \"label\",\n      \"properties\": {\n        \"dtype\": \"number\",\n        \"std\": 21,\n        \"min\": 25,\n        \"max\": 128,\n        \"num_unique_values\": 65,\n        \"samples\": [\n          87,\n          112,\n          25\n        ],\n        \"semantic_type\": \"\",\n        \"description\": \"\"\n      }\n    },\n    {\n      \"column\": \"file_path\",\n      \"properties\": {\n        \"dtype\": \"string\",\n        \"num_unique_values\": 133,\n        \"samples\": [\n          \"/content/drive/MyDrive/Cyclotech/insat3d_ir_cyclone_ds/CYCLONE_DATASET_INFRARED/48(2).jpg\",\n          \"/content/drive/MyDrive/Cyclotech/insat3d_ir_cyclone_ds/CYCLONE_DATASET_INFRARED/55(2).jpg\",\n          \"/content/drive/MyDrive/Cyclotech/insat3d_ir_cyclone_ds/CYCLONE_DATASET_INFRARED/43.jpg\"\n        ],\n        \"semantic_type\": \"\",\n        \"description\": \"\"\n      }\n    }\n  ]\n}",
              "type": "dataframe",
              "variable_name": "df"
            },
            "text/html": [
              "\n",
              "  <div id=\"df-7863eab2-a02d-4f68-963b-310f5052b26b\" class=\"colab-df-container\">\n",
              "    <div>\n",
              "<style scoped>\n",
              "    .dataframe tbody tr th:only-of-type {\n",
              "        vertical-align: middle;\n",
              "    }\n",
              "\n",
              "    .dataframe tbody tr th {\n",
              "        vertical-align: top;\n",
              "    }\n",
              "\n",
              "    .dataframe thead th {\n",
              "        text-align: right;\n",
              "    }\n",
              "</style>\n",
              "<table border=\"1\" class=\"dataframe\">\n",
              "  <thead>\n",
              "    <tr style=\"text-align: right;\">\n",
              "      <th></th>\n",
              "      <th>img_name</th>\n",
              "      <th>label</th>\n",
              "      <th>file_path</th>\n",
              "    </tr>\n",
              "  </thead>\n",
              "  <tbody>\n",
              "    <tr>\n",
              "      <th>0</th>\n",
              "      <td>25.jpg</td>\n",
              "      <td>25</td>\n",
              "      <td>/content/drive/MyDrive/Cyclotech/insat3d_ir_cy...</td>\n",
              "    </tr>\n",
              "    <tr>\n",
              "      <th>1</th>\n",
              "      <td>27.jpg</td>\n",
              "      <td>27</td>\n",
              "      <td>/content/drive/MyDrive/Cyclotech/insat3d_ir_cy...</td>\n",
              "    </tr>\n",
              "    <tr>\n",
              "      <th>2</th>\n",
              "      <td>28.jpg</td>\n",
              "      <td>28</td>\n",
              "      <td>/content/drive/MyDrive/Cyclotech/insat3d_ir_cy...</td>\n",
              "    </tr>\n",
              "    <tr>\n",
              "      <th>3</th>\n",
              "      <td>30.jpg</td>\n",
              "      <td>30</td>\n",
              "      <td>/content/drive/MyDrive/Cyclotech/insat3d_ir_cy...</td>\n",
              "    </tr>\n",
              "    <tr>\n",
              "      <th>4</th>\n",
              "      <td>30(1).jpg</td>\n",
              "      <td>30</td>\n",
              "      <td>/content/drive/MyDrive/Cyclotech/insat3d_ir_cy...</td>\n",
              "    </tr>\n",
              "    <tr>\n",
              "      <th>...</th>\n",
              "      <td>...</td>\n",
              "      <td>...</td>\n",
              "      <td>...</td>\n",
              "    </tr>\n",
              "    <tr>\n",
              "      <th>131</th>\n",
              "      <td>112.jpg</td>\n",
              "      <td>112</td>\n",
              "      <td>/content/drive/MyDrive/Cyclotech/insat3d_ir_cy...</td>\n",
              "    </tr>\n",
              "    <tr>\n",
              "      <th>132</th>\n",
              "      <td>115.jpg</td>\n",
              "      <td>115</td>\n",
              "      <td>/content/drive/MyDrive/Cyclotech/insat3d_ir_cy...</td>\n",
              "    </tr>\n",
              "    <tr>\n",
              "      <th>133</th>\n",
              "      <td>118.jpg</td>\n",
              "      <td>118</td>\n",
              "      <td>/content/drive/MyDrive/Cyclotech/insat3d_ir_cy...</td>\n",
              "    </tr>\n",
              "    <tr>\n",
              "      <th>134</th>\n",
              "      <td>119.jpg</td>\n",
              "      <td>119</td>\n",
              "      <td>/content/drive/MyDrive/Cyclotech/insat3d_ir_cy...</td>\n",
              "    </tr>\n",
              "    <tr>\n",
              "      <th>135</th>\n",
              "      <td>128.jpg</td>\n",
              "      <td>128</td>\n",
              "      <td>/content/drive/MyDrive/Cyclotech/insat3d_ir_cy...</td>\n",
              "    </tr>\n",
              "  </tbody>\n",
              "</table>\n",
              "<p>133 rows × 3 columns</p>\n",
              "</div>\n",
              "    <div class=\"colab-df-buttons\">\n",
              "\n",
              "  <div class=\"colab-df-container\">\n",
              "    <button class=\"colab-df-convert\" onclick=\"convertToInteractive('df-7863eab2-a02d-4f68-963b-310f5052b26b')\"\n",
              "            title=\"Convert this dataframe to an interactive table.\"\n",
              "            style=\"display:none;\">\n",
              "\n",
              "  <svg xmlns=\"http://www.w3.org/2000/svg\" height=\"24px\" viewBox=\"0 -960 960 960\">\n",
              "    <path d=\"M120-120v-720h720v720H120Zm60-500h600v-160H180v160Zm220 220h160v-160H400v160Zm0 220h160v-160H400v160ZM180-400h160v-160H180v160Zm440 0h160v-160H620v160ZM180-180h160v-160H180v160Zm440 0h160v-160H620v160Z\"/>\n",
              "  </svg>\n",
              "    </button>\n",
              "\n",
              "  <style>\n",
              "    .colab-df-container {\n",
              "      display:flex;\n",
              "      gap: 12px;\n",
              "    }\n",
              "\n",
              "    .colab-df-convert {\n",
              "      background-color: #E8F0FE;\n",
              "      border: none;\n",
              "      border-radius: 50%;\n",
              "      cursor: pointer;\n",
              "      display: none;\n",
              "      fill: #1967D2;\n",
              "      height: 32px;\n",
              "      padding: 0 0 0 0;\n",
              "      width: 32px;\n",
              "    }\n",
              "\n",
              "    .colab-df-convert:hover {\n",
              "      background-color: #E2EBFA;\n",
              "      box-shadow: 0px 1px 2px rgba(60, 64, 67, 0.3), 0px 1px 3px 1px rgba(60, 64, 67, 0.15);\n",
              "      fill: #174EA6;\n",
              "    }\n",
              "\n",
              "    .colab-df-buttons div {\n",
              "      margin-bottom: 4px;\n",
              "    }\n",
              "\n",
              "    [theme=dark] .colab-df-convert {\n",
              "      background-color: #3B4455;\n",
              "      fill: #D2E3FC;\n",
              "    }\n",
              "\n",
              "    [theme=dark] .colab-df-convert:hover {\n",
              "      background-color: #434B5C;\n",
              "      box-shadow: 0px 1px 3px 1px rgba(0, 0, 0, 0.15);\n",
              "      filter: drop-shadow(0px 1px 2px rgba(0, 0, 0, 0.3));\n",
              "      fill: #FFFFFF;\n",
              "    }\n",
              "  </style>\n",
              "\n",
              "    <script>\n",
              "      const buttonEl =\n",
              "        document.querySelector('#df-7863eab2-a02d-4f68-963b-310f5052b26b button.colab-df-convert');\n",
              "      buttonEl.style.display =\n",
              "        google.colab.kernel.accessAllowed ? 'block' : 'none';\n",
              "\n",
              "      async function convertToInteractive(key) {\n",
              "        const element = document.querySelector('#df-7863eab2-a02d-4f68-963b-310f5052b26b');\n",
              "        const dataTable =\n",
              "          await google.colab.kernel.invokeFunction('convertToInteractive',\n",
              "                                                    [key], {});\n",
              "        if (!dataTable) return;\n",
              "\n",
              "        const docLinkHtml = 'Like what you see? Visit the ' +\n",
              "          '<a target=\"_blank\" href=https://colab.research.google.com/notebooks/data_table.ipynb>data table notebook</a>'\n",
              "          + ' to learn more about interactive tables.';\n",
              "        element.innerHTML = '';\n",
              "        dataTable['output_type'] = 'display_data';\n",
              "        await google.colab.output.renderOutput(dataTable, element);\n",
              "        const docLink = document.createElement('div');\n",
              "        docLink.innerHTML = docLinkHtml;\n",
              "        element.appendChild(docLink);\n",
              "      }\n",
              "    </script>\n",
              "  </div>\n",
              "\n",
              "\n",
              "<div id=\"df-1fc970da-c04e-4174-afd6-22b8b354bc14\">\n",
              "  <button class=\"colab-df-quickchart\" onclick=\"quickchart('df-1fc970da-c04e-4174-afd6-22b8b354bc14')\"\n",
              "            title=\"Suggest charts\"\n",
              "            style=\"display:none;\">\n",
              "\n",
              "<svg xmlns=\"http://www.w3.org/2000/svg\" height=\"24px\"viewBox=\"0 0 24 24\"\n",
              "     width=\"24px\">\n",
              "    <g>\n",
              "        <path d=\"M19 3H5c-1.1 0-2 .9-2 2v14c0 1.1.9 2 2 2h14c1.1 0 2-.9 2-2V5c0-1.1-.9-2-2-2zM9 17H7v-7h2v7zm4 0h-2V7h2v10zm4 0h-2v-4h2v4z\"/>\n",
              "    </g>\n",
              "</svg>\n",
              "  </button>\n",
              "\n",
              "<style>\n",
              "  .colab-df-quickchart {\n",
              "      --bg-color: #E8F0FE;\n",
              "      --fill-color: #1967D2;\n",
              "      --hover-bg-color: #E2EBFA;\n",
              "      --hover-fill-color: #174EA6;\n",
              "      --disabled-fill-color: #AAA;\n",
              "      --disabled-bg-color: #DDD;\n",
              "  }\n",
              "\n",
              "  [theme=dark] .colab-df-quickchart {\n",
              "      --bg-color: #3B4455;\n",
              "      --fill-color: #D2E3FC;\n",
              "      --hover-bg-color: #434B5C;\n",
              "      --hover-fill-color: #FFFFFF;\n",
              "      --disabled-bg-color: #3B4455;\n",
              "      --disabled-fill-color: #666;\n",
              "  }\n",
              "\n",
              "  .colab-df-quickchart {\n",
              "    background-color: var(--bg-color);\n",
              "    border: none;\n",
              "    border-radius: 50%;\n",
              "    cursor: pointer;\n",
              "    display: none;\n",
              "    fill: var(--fill-color);\n",
              "    height: 32px;\n",
              "    padding: 0;\n",
              "    width: 32px;\n",
              "  }\n",
              "\n",
              "  .colab-df-quickchart:hover {\n",
              "    background-color: var(--hover-bg-color);\n",
              "    box-shadow: 0 1px 2px rgba(60, 64, 67, 0.3), 0 1px 3px 1px rgba(60, 64, 67, 0.15);\n",
              "    fill: var(--button-hover-fill-color);\n",
              "  }\n",
              "\n",
              "  .colab-df-quickchart-complete:disabled,\n",
              "  .colab-df-quickchart-complete:disabled:hover {\n",
              "    background-color: var(--disabled-bg-color);\n",
              "    fill: var(--disabled-fill-color);\n",
              "    box-shadow: none;\n",
              "  }\n",
              "\n",
              "  .colab-df-spinner {\n",
              "    border: 2px solid var(--fill-color);\n",
              "    border-color: transparent;\n",
              "    border-bottom-color: var(--fill-color);\n",
              "    animation:\n",
              "      spin 1s steps(1) infinite;\n",
              "  }\n",
              "\n",
              "  @keyframes spin {\n",
              "    0% {\n",
              "      border-color: transparent;\n",
              "      border-bottom-color: var(--fill-color);\n",
              "      border-left-color: var(--fill-color);\n",
              "    }\n",
              "    20% {\n",
              "      border-color: transparent;\n",
              "      border-left-color: var(--fill-color);\n",
              "      border-top-color: var(--fill-color);\n",
              "    }\n",
              "    30% {\n",
              "      border-color: transparent;\n",
              "      border-left-color: var(--fill-color);\n",
              "      border-top-color: var(--fill-color);\n",
              "      border-right-color: var(--fill-color);\n",
              "    }\n",
              "    40% {\n",
              "      border-color: transparent;\n",
              "      border-right-color: var(--fill-color);\n",
              "      border-top-color: var(--fill-color);\n",
              "    }\n",
              "    60% {\n",
              "      border-color: transparent;\n",
              "      border-right-color: var(--fill-color);\n",
              "    }\n",
              "    80% {\n",
              "      border-color: transparent;\n",
              "      border-right-color: var(--fill-color);\n",
              "      border-bottom-color: var(--fill-color);\n",
              "    }\n",
              "    90% {\n",
              "      border-color: transparent;\n",
              "      border-bottom-color: var(--fill-color);\n",
              "    }\n",
              "  }\n",
              "</style>\n",
              "\n",
              "  <script>\n",
              "    async function quickchart(key) {\n",
              "      const quickchartButtonEl =\n",
              "        document.querySelector('#' + key + ' button');\n",
              "      quickchartButtonEl.disabled = true;  // To prevent multiple clicks.\n",
              "      quickchartButtonEl.classList.add('colab-df-spinner');\n",
              "      try {\n",
              "        const charts = await google.colab.kernel.invokeFunction(\n",
              "            'suggestCharts', [key], {});\n",
              "      } catch (error) {\n",
              "        console.error('Error during call to suggestCharts:', error);\n",
              "      }\n",
              "      quickchartButtonEl.classList.remove('colab-df-spinner');\n",
              "      quickchartButtonEl.classList.add('colab-df-quickchart-complete');\n",
              "    }\n",
              "    (() => {\n",
              "      let quickchartButtonEl =\n",
              "        document.querySelector('#df-1fc970da-c04e-4174-afd6-22b8b354bc14 button');\n",
              "      quickchartButtonEl.style.display =\n",
              "        google.colab.kernel.accessAllowed ? 'block' : 'none';\n",
              "    })();\n",
              "  </script>\n",
              "</div>\n",
              "\n",
              "  <div id=\"id_b4f9fade-db59-46d4-9739-bbd1970e75c0\">\n",
              "    <style>\n",
              "      .colab-df-generate {\n",
              "        background-color: #E8F0FE;\n",
              "        border: none;\n",
              "        border-radius: 50%;\n",
              "        cursor: pointer;\n",
              "        display: none;\n",
              "        fill: #1967D2;\n",
              "        height: 32px;\n",
              "        padding: 0 0 0 0;\n",
              "        width: 32px;\n",
              "      }\n",
              "\n",
              "      .colab-df-generate:hover {\n",
              "        background-color: #E2EBFA;\n",
              "        box-shadow: 0px 1px 2px rgba(60, 64, 67, 0.3), 0px 1px 3px 1px rgba(60, 64, 67, 0.15);\n",
              "        fill: #174EA6;\n",
              "      }\n",
              "\n",
              "      [theme=dark] .colab-df-generate {\n",
              "        background-color: #3B4455;\n",
              "        fill: #D2E3FC;\n",
              "      }\n",
              "\n",
              "      [theme=dark] .colab-df-generate:hover {\n",
              "        background-color: #434B5C;\n",
              "        box-shadow: 0px 1px 3px 1px rgba(0, 0, 0, 0.15);\n",
              "        filter: drop-shadow(0px 1px 2px rgba(0, 0, 0, 0.3));\n",
              "        fill: #FFFFFF;\n",
              "      }\n",
              "    </style>\n",
              "    <button class=\"colab-df-generate\" onclick=\"generateWithVariable('df')\"\n",
              "            title=\"Generate code using this dataframe.\"\n",
              "            style=\"display:none;\">\n",
              "\n",
              "  <svg xmlns=\"http://www.w3.org/2000/svg\" height=\"24px\"viewBox=\"0 0 24 24\"\n",
              "       width=\"24px\">\n",
              "    <path d=\"M7,19H8.4L18.45,9,17,7.55,7,17.6ZM5,21V16.75L18.45,3.32a2,2,0,0,1,2.83,0l1.4,1.43a1.91,1.91,0,0,1,.58,1.4,1.91,1.91,0,0,1-.58,1.4L9.25,21ZM18.45,9,17,7.55Zm-12,3A5.31,5.31,0,0,0,4.9,8.1,5.31,5.31,0,0,0,1,6.5,5.31,5.31,0,0,0,4.9,4.9,5.31,5.31,0,0,0,6.5,1,5.31,5.31,0,0,0,8.1,4.9,5.31,5.31,0,0,0,12,6.5,5.46,5.46,0,0,0,6.5,12Z\"/>\n",
              "  </svg>\n",
              "    </button>\n",
              "    <script>\n",
              "      (() => {\n",
              "      const buttonEl =\n",
              "        document.querySelector('#id_b4f9fade-db59-46d4-9739-bbd1970e75c0 button.colab-df-generate');\n",
              "      buttonEl.style.display =\n",
              "        google.colab.kernel.accessAllowed ? 'block' : 'none';\n",
              "\n",
              "      buttonEl.onclick = () => {\n",
              "        google.colab.notebook.generateWithVariable('df');\n",
              "      }\n",
              "      })();\n",
              "    </script>\n",
              "  </div>\n",
              "\n",
              "    </div>\n",
              "  </div>\n"
            ],
            "text/plain": [
              "      img_name  label                                          file_path\n",
              "0       25.jpg     25  /content/drive/MyDrive/Cyclotech/insat3d_ir_cy...\n",
              "1       27.jpg     27  /content/drive/MyDrive/Cyclotech/insat3d_ir_cy...\n",
              "2       28.jpg     28  /content/drive/MyDrive/Cyclotech/insat3d_ir_cy...\n",
              "3       30.jpg     30  /content/drive/MyDrive/Cyclotech/insat3d_ir_cy...\n",
              "4    30(1).jpg     30  /content/drive/MyDrive/Cyclotech/insat3d_ir_cy...\n",
              "..         ...    ...                                                ...\n",
              "131    112.jpg    112  /content/drive/MyDrive/Cyclotech/insat3d_ir_cy...\n",
              "132    115.jpg    115  /content/drive/MyDrive/Cyclotech/insat3d_ir_cy...\n",
              "133    118.jpg    118  /content/drive/MyDrive/Cyclotech/insat3d_ir_cy...\n",
              "134    119.jpg    119  /content/drive/MyDrive/Cyclotech/insat3d_ir_cy...\n",
              "135    128.jpg    128  /content/drive/MyDrive/Cyclotech/insat3d_ir_cy...\n",
              "\n",
              "[133 rows x 3 columns]"
            ]
          },
          "execution_count": 10,
          "metadata": {},
          "output_type": "execute_result"
        }
      ],
      "source": [
        "df"
      ]
    },
    {
      "cell_type": "code",
      "execution_count": null,
      "metadata": {
        "colab": {
          "base_uri": "https://localhost:8080/",
          "height": 186
        },
        "id": "SV25DzpB8vqp",
        "outputId": "ae59ef59-654d-484d-d66a-677df81fabc6"
      },
      "outputs": [
        {
          "data": {
            "text/html": [
              "<div style=\"max-width:800px; border: 1px solid var(--colab-border-color);\"><style>\n",
              "      pre.function-repr-contents {\n",
              "        overflow-x: auto;\n",
              "        padding: 8px 12px;\n",
              "        max-height: 500px;\n",
              "      }\n",
              "\n",
              "      pre.function-repr-contents.function-repr-contents-collapsed {\n",
              "        cursor: pointer;\n",
              "        max-height: 100px;\n",
              "      }\n",
              "    </style>\n",
              "    <pre style=\"white-space: initial; background:\n",
              "         var(--colab-secondary-surface-color); padding: 8px 12px;\n",
              "         border-bottom: 1px solid var(--colab-border-color);\"><b>pandas.core.generic.NDFrame.keys</b><br/>def keys() -&gt; Index</pre><pre class=\"function-repr-contents function-repr-contents-collapsed\" style=\"\"><a class=\"filepath\" style=\"display:none\" href=\"#\">/usr/local/lib/python3.10/dist-packages/pandas/core/generic.py</a>Get the &#x27;info axis&#x27; (see Indexing for more).\n",
              "\n",
              "This is index for Series, columns for DataFrame.\n",
              "\n",
              "Returns\n",
              "-------\n",
              "Index\n",
              "    Info axis.</pre>\n",
              "      <script>\n",
              "      if (google.colab.kernel.accessAllowed && google.colab.files && google.colab.files.view) {\n",
              "        for (const element of document.querySelectorAll('.filepath')) {\n",
              "          element.style.display = 'block'\n",
              "          element.onclick = (event) => {\n",
              "            event.preventDefault();\n",
              "            event.stopPropagation();\n",
              "            google.colab.files.view(element.textContent, 1894);\n",
              "          };\n",
              "        }\n",
              "      }\n",
              "      for (const element of document.querySelectorAll('.function-repr-contents')) {\n",
              "        element.onclick = (event) => {\n",
              "          event.preventDefault();\n",
              "          event.stopPropagation();\n",
              "          element.classList.toggle('function-repr-contents-collapsed');\n",
              "        };\n",
              "      }\n",
              "      </script>\n",
              "      </div>"
            ],
            "text/plain": [
              "<bound method NDFrame.keys of       img_name  label                                          file_path\n",
              "0       25.jpg     25  /content/drive/MyDrive/Cyclotech/insat3d_ir_cy...\n",
              "1       27.jpg     27  /content/drive/MyDrive/Cyclotech/insat3d_ir_cy...\n",
              "2       28.jpg     28  /content/drive/MyDrive/Cyclotech/insat3d_ir_cy...\n",
              "3       30.jpg     30  /content/drive/MyDrive/Cyclotech/insat3d_ir_cy...\n",
              "4    30(1).jpg     30  /content/drive/MyDrive/Cyclotech/insat3d_ir_cy...\n",
              "..         ...    ...                                                ...\n",
              "131    112.jpg    112  /content/drive/MyDrive/Cyclotech/insat3d_ir_cy...\n",
              "132    115.jpg    115  /content/drive/MyDrive/Cyclotech/insat3d_ir_cy...\n",
              "133    118.jpg    118  /content/drive/MyDrive/Cyclotech/insat3d_ir_cy...\n",
              "134    119.jpg    119  /content/drive/MyDrive/Cyclotech/insat3d_ir_cy...\n",
              "135    128.jpg    128  /content/drive/MyDrive/Cyclotech/insat3d_ir_cy...\n",
              "\n",
              "[133 rows x 3 columns]>"
            ]
          },
          "execution_count": 11,
          "metadata": {},
          "output_type": "execute_result"
        }
      ],
      "source": [
        "df.keys"
      ]
    },
    {
      "cell_type": "code",
      "execution_count": null,
      "metadata": {
        "colab": {
          "base_uri": "https://localhost:8080/"
        },
        "id": "JodM8I5qB6cT",
        "outputId": "6971f874-6bd2-489b-d5b7-04fcbe61ca65"
      },
      "outputs": [
        {
          "data": {
            "text/plain": [
              "Index([  0,   1,   2,   3,   4,   5,   6,   7,   8,   9,\n",
              "       ...\n",
              "       126, 127, 128, 129, 130, 131, 132, 133, 134, 135],\n",
              "      dtype='int64', length=133)"
            ]
          },
          "execution_count": 12,
          "metadata": {},
          "output_type": "execute_result"
        }
      ],
      "source": [
        "df.index"
      ]
    },
    {
      "cell_type": "code",
      "execution_count": null,
      "metadata": {
        "id": "wgwuDdktch5U"
      },
      "outputs": [],
      "source": [
        "class CycloneDataset(Dataset):\n",
        "  def __init__(self, df, transforms=None):\n",
        "    self.df = df\n",
        "    self.file_names = df['file_path'].values\n",
        "    self.labels = df['label'].values\n",
        "    self.transforms = transforms\n",
        "\n",
        "  def __len__(self):\n",
        "    return len(self.df)\n",
        "\n",
        "#transforms.compose reminder\n",
        "\n",
        "  def __getitem__(self, index):\n",
        "    img_path = self.file_names[index]\n",
        "    img = cv2.imread(img_path)\n",
        "    img = np.array(img)\n",
        "    totensor = transforms.ToTensor()\n",
        "    img = totensor(img)\n",
        "    resize = transforms.Resize(size=(250, 250))\n",
        "    img = resize(img)\n",
        "    flip = transforms.RandomHorizontalFlip(p = 0.5)\n",
        "    img = flip(img)\n",
        "    label = self.labels[index]\n",
        "\n",
        "    if self.transforms:\n",
        "      img = self.transforms(image=img)[\"image\"]\n",
        "\n",
        "    return img, torch.tensor(label, dtype=torch.long).float()"
      ]
    },
    {
      "cell_type": "code",
      "execution_count": null,
      "metadata": {
        "id": "gSvtudSr7IBP"
      },
      "outputs": [],
      "source": [
        "dataset = CycloneDataset(df)"
      ]
    },
    {
      "cell_type": "code",
      "execution_count": null,
      "metadata": {
        "colab": {
          "base_uri": "https://localhost:8080/"
        },
        "id": "8ncFcz9x7OVo",
        "outputId": "5fe07b6d-81ba-4d7b-b521-c74bb91fec52"
      },
      "outputs": [
        {
          "data": {
            "text/plain": [
              "<__main__.CycloneDataset at 0x799313e5fdf0>"
            ]
          },
          "execution_count": 15,
          "metadata": {},
          "output_type": "execute_result"
        }
      ],
      "source": [
        "dataset"
      ]
    },
    {
      "cell_type": "code",
      "execution_count": null,
      "metadata": {
        "id": "bUKqIRpM-dgw"
      },
      "outputs": [],
      "source": [
        "dataset = CycloneDataset(df)\n",
        "data_loader = DataLoader(dataset, batch_size=4, shuffle=True)"
      ]
    },
    {
      "cell_type": "code",
      "execution_count": null,
      "metadata": {
        "colab": {
          "base_uri": "https://localhost:8080/"
        },
        "id": "rHgdV8jT-4Vc",
        "outputId": "10912cdd-242d-4ba8-8e2d-c88eb2520a0b"
      },
      "outputs": [
        {
          "data": {
            "text/plain": [
              "<torch.utils.data.dataloader.DataLoader at 0x799313e5fe80>"
            ]
          },
          "execution_count": 17,
          "metadata": {},
          "output_type": "execute_result"
        }
      ],
      "source": [
        "data_loader"
      ]
    },
    {
      "cell_type": "code",
      "execution_count": null,
      "metadata": {
        "id": "LKXHENbuNtbs"
      },
      "outputs": [],
      "source": [
        "import numpy as np"
      ]
    },
    {
      "cell_type": "code",
      "execution_count": null,
      "metadata": {
        "id": "ejOPe1mtKgHD"
      },
      "outputs": [],
      "source": [
        "# for view_img, view_label in data_loader:\n",
        "#   print(view_img, view_label)"
      ]
    },
    {
      "cell_type": "code",
      "execution_count": null,
      "metadata": {
        "colab": {
          "base_uri": "https://localhost:8080/"
        },
        "id": "NnruwSQLptIH",
        "outputId": "3ee28c56-90e8-4542-cf3c-41e2a9408afd"
      },
      "outputs": [
        {
          "data": {
            "text/plain": [
              "(tensor([[[0.0633, 0.0912, 0.0940,  ..., 0.3181, 0.4042, 0.6266],\n",
              "          [0.0654, 0.0884, 0.0917,  ..., 0.3406, 0.4305, 0.6331],\n",
              "          [0.0706, 0.0806, 0.0815,  ..., 0.3390, 0.4414, 0.6349],\n",
              "          ...,\n",
              "          [0.2432, 0.2697, 0.2556,  ..., 0.2366, 0.3260, 0.6088],\n",
              "          [0.2605, 0.2875, 0.2823,  ..., 0.1432, 0.1932, 0.6029],\n",
              "          [0.2162, 0.2366, 0.2453,  ..., 0.2259, 0.2675, 0.6390]],\n",
              " \n",
              "         [[0.1089, 0.1330, 0.1320,  ..., 0.9401, 0.9023, 0.9614],\n",
              "          [0.1062, 0.1267, 0.1259,  ..., 0.9498, 0.9176, 0.9648],\n",
              "          [0.1098, 0.1179, 0.1152,  ..., 0.9302, 0.9135, 0.9632],\n",
              "          ...,\n",
              "          [0.6198, 0.6607, 0.6699,  ..., 0.5558, 0.6057, 0.8361],\n",
              "          [0.6781, 0.7210, 0.7402,  ..., 0.3544, 0.3761, 0.7449],\n",
              "          [0.6580, 0.6970, 0.7323,  ..., 0.3849, 0.4010, 0.7303]],\n",
              " \n",
              "         [[0.5509, 0.5852, 0.5974,  ..., 0.9296, 0.8918, 0.9555],\n",
              "          [0.5626, 0.5904, 0.6016,  ..., 0.9619, 0.9301, 0.9650],\n",
              "          [0.5716, 0.5859, 0.5922,  ..., 0.9753, 0.9504, 0.9711],\n",
              "          ...,\n",
              "          [0.9292, 0.9604, 0.9573,  ..., 0.8994, 0.8531, 0.9287],\n",
              "          [0.9213, 0.9517, 0.9604,  ..., 0.8092, 0.7256, 0.8881],\n",
              "          [0.8581, 0.8860, 0.9102,  ..., 0.8836, 0.7951, 0.9005]]]),\n",
              " tensor(119.))"
            ]
          },
          "execution_count": 20,
          "metadata": {},
          "output_type": "execute_result"
        }
      ],
      "source": [
        "dataset[131]"
      ]
    },
    {
      "cell_type": "code",
      "execution_count": null,
      "metadata": {
        "colab": {
          "base_uri": "https://localhost:8080/",
          "height": 504
        },
        "id": "g6WTONp_nZ0m",
        "outputId": "3157f810-c905-44e1-e763-1f16359fb865"
      },
      "outputs": [
        {
          "name": "stderr",
          "output_type": "stream",
          "text": [
            "WARNING:matplotlib.image:Clipping input data to the valid range for imshow with RGB data ([0..1] for floats or [0..255] for integers).\n"
          ]
        },
        {
          "name": "stdout",
          "output_type": "stream",
          "text": [
            "INTENSITY: 53.0 KNOTS\n",
            "SIZE: torch.Size([3, 250, 250])\n",
            "\n"
          ]
        },
        {
          "data": {
            "image/png": "[encoded data removed]",
            "text/plain": [
              "<Figure size 640x480 with 1 Axes>"
            ]
          },
          "metadata": {},
          "output_type": "display_data"
        }
      ],
      "source": [
        "#print a random image from the dataset\n",
        "import random\n",
        "i = random.randint(0, 132)\n",
        "# x = dataset[i][\"image\"]\n",
        "# y = dataset[i][\"label\"]\n",
        "# size = dataset[i][\"image\"].shape\n",
        "img, label = dataset[i]\n",
        "size = img.shape\n",
        "print(f\"INTENSITY: {label} KNOTS\")\n",
        "print(f\"SIZE: {size}\\n\")\n",
        "plt.imshow(img.permute(1, 2, 0))\n",
        "plt.show()"
      ]
    },
    {
      "cell_type": "code",
      "execution_count": null,
      "metadata": {
        "colab": {
          "base_uri": "https://localhost:8080/"
        },
        "id": "kVgAvXfNwAwo",
        "outputId": "eb4e7b92-22e0-4991-d365-6c8076a7ac8e"
      },
      "outputs": [
        {
          "name": "stdout",
          "output_type": "stream",
          "text": [
            "torch.Size([3, 250, 250])\n",
            "torch.Size([3, 250, 250])\n",
            "torch.Size([3, 250, 250])\n",
            "torch.Size([3, 250, 250])\n",
            "torch.Size([3, 250, 250])\n",
            "torch.Size([3, 250, 250])\n",
            "torch.Size([3, 250, 250])\n",
            "torch.Size([3, 250, 250])\n",
            "torch.Size([3, 250, 250])\n",
            "torch.Size([3, 250, 250])\n",
            "torch.Size([3, 250, 250])\n",
            "torch.Size([3, 250, 250])\n",
            "torch.Size([3, 250, 250])\n",
            "torch.Size([3, 250, 250])\n",
            "torch.Size([3, 250, 250])\n",
            "torch.Size([3, 250, 250])\n",
            "torch.Size([3, 250, 250])\n",
            "torch.Size([3, 250, 250])\n",
            "torch.Size([3, 250, 250])\n",
            "torch.Size([3, 250, 250])\n",
            "torch.Size([3, 250, 250])\n",
            "torch.Size([3, 250, 250])\n",
            "torch.Size([3, 250, 250])\n",
            "torch.Size([3, 250, 250])\n",
            "torch.Size([3, 250, 250])\n",
            "torch.Size([3, 250, 250])\n",
            "torch.Size([3, 250, 250])\n",
            "torch.Size([3, 250, 250])\n",
            "torch.Size([3, 250, 250])\n",
            "torch.Size([3, 250, 250])\n",
            "torch.Size([3, 250, 250])\n",
            "torch.Size([3, 250, 250])\n",
            "torch.Size([3, 250, 250])\n",
            "torch.Size([3, 250, 250])\n",
            "torch.Size([3, 250, 250])\n",
            "torch.Size([3, 250, 250])\n",
            "torch.Size([3, 250, 250])\n",
            "torch.Size([3, 250, 250])\n",
            "torch.Size([3, 250, 250])\n",
            "torch.Size([3, 250, 250])\n",
            "torch.Size([3, 250, 250])\n",
            "torch.Size([3, 250, 250])\n",
            "torch.Size([3, 250, 250])\n",
            "torch.Size([3, 250, 250])\n",
            "torch.Size([3, 250, 250])\n",
            "torch.Size([3, 250, 250])\n",
            "torch.Size([3, 250, 250])\n",
            "torch.Size([3, 250, 250])\n",
            "torch.Size([3, 250, 250])\n",
            "torch.Size([3, 250, 250])\n",
            "torch.Size([3, 250, 250])\n",
            "torch.Size([3, 250, 250])\n",
            "torch.Size([3, 250, 250])\n",
            "torch.Size([3, 250, 250])\n",
            "torch.Size([3, 250, 250])\n",
            "torch.Size([3, 250, 250])\n",
            "torch.Size([3, 250, 250])\n",
            "torch.Size([3, 250, 250])\n",
            "torch.Size([3, 250, 250])\n",
            "torch.Size([3, 250, 250])\n",
            "torch.Size([3, 250, 250])\n",
            "torch.Size([3, 250, 250])\n",
            "torch.Size([3, 250, 250])\n",
            "torch.Size([3, 250, 250])\n",
            "torch.Size([3, 250, 250])\n",
            "torch.Size([3, 250, 250])\n",
            "torch.Size([3, 250, 250])\n",
            "torch.Size([3, 250, 250])\n",
            "torch.Size([3, 250, 250])\n",
            "torch.Size([3, 250, 250])\n",
            "torch.Size([3, 250, 250])\n",
            "torch.Size([3, 250, 250])\n",
            "torch.Size([3, 250, 250])\n",
            "torch.Size([3, 250, 250])\n",
            "torch.Size([3, 250, 250])\n",
            "torch.Size([3, 250, 250])\n",
            "torch.Size([3, 250, 250])\n",
            "torch.Size([3, 250, 250])\n",
            "torch.Size([3, 250, 250])\n",
            "torch.Size([3, 250, 250])\n",
            "torch.Size([3, 250, 250])\n",
            "torch.Size([3, 250, 250])\n",
            "torch.Size([3, 250, 250])\n",
            "torch.Size([3, 250, 250])\n",
            "torch.Size([3, 250, 250])\n",
            "torch.Size([3, 250, 250])\n",
            "torch.Size([3, 250, 250])\n",
            "torch.Size([3, 250, 250])\n",
            "torch.Size([3, 250, 250])\n",
            "torch.Size([3, 250, 250])\n",
            "torch.Size([3, 250, 250])\n",
            "torch.Size([3, 250, 250])\n",
            "torch.Size([3, 250, 250])\n",
            "torch.Size([3, 250, 250])\n",
            "torch.Size([3, 250, 250])\n",
            "torch.Size([3, 250, 250])\n",
            "torch.Size([3, 250, 250])\n",
            "torch.Size([3, 250, 250])\n",
            "torch.Size([3, 250, 250])\n",
            "torch.Size([3, 250, 250])\n",
            "torch.Size([3, 250, 250])\n",
            "torch.Size([3, 250, 250])\n",
            "torch.Size([3, 250, 250])\n",
            "torch.Size([3, 250, 250])\n",
            "torch.Size([3, 250, 250])\n",
            "torch.Size([3, 250, 250])\n",
            "torch.Size([3, 250, 250])\n",
            "torch.Size([3, 250, 250])\n",
            "torch.Size([3, 250, 250])\n",
            "torch.Size([3, 250, 250])\n",
            "torch.Size([3, 250, 250])\n",
            "torch.Size([3, 250, 250])\n",
            "torch.Size([3, 250, 250])\n",
            "torch.Size([3, 250, 250])\n",
            "torch.Size([3, 250, 250])\n",
            "torch.Size([3, 250, 250])\n",
            "torch.Size([3, 250, 250])\n",
            "torch.Size([3, 250, 250])\n",
            "torch.Size([3, 250, 250])\n",
            "torch.Size([3, 250, 250])\n",
            "torch.Size([3, 250, 250])\n",
            "torch.Size([3, 250, 250])\n",
            "torch.Size([3, 250, 250])\n",
            "torch.Size([3, 250, 250])\n",
            "torch.Size([3, 250, 250])\n",
            "torch.Size([3, 250, 250])\n",
            "torch.Size([3, 250, 250])\n",
            "torch.Size([3, 250, 250])\n",
            "torch.Size([3, 250, 250])\n",
            "torch.Size([3, 250, 250])\n",
            "torch.Size([3, 250, 250])\n",
            "torch.Size([3, 250, 250])\n"
          ]
        }
      ],
      "source": [
        "for i in range(132):\n",
        "  x, y = dataset[i]\n",
        "  # x = dataset[i][\"image\"]\n",
        "  print(x.shape)"
      ]
    },
    {
      "cell_type": "code",
      "execution_count": null,
      "metadata": {
        "id": "3AF6Y6f20wUf"
      },
      "outputs": [],
      "source": [
        "# RESIZE TO SAME\n",
        "# DONE :D"
      ]
    },
    {
      "cell_type": "code",
      "execution_count": null,
      "metadata": {
        "id": "T2Qg8QMgg9vg"
      },
      "outputs": [],
      "source": [
        "class Model(nn.Module):\n",
        "  def __init__(self):\n",
        "    super().__init__()\n",
        "    self.model = nn.Sequential(\n",
        "        nn.Conv2d(3, 256, kernel_size=3, stride=1, padding=1),\n",
        "        nn.BatchNorm2d(256),\n",
        "        nn.ReLU(),\n",
        "        nn.Conv2d(256, 256, kernel_size=3, stride=1, padding=1),\n",
        "        nn.BatchNorm2d(256),\n",
        "        nn.ReLU(),\n",
        "        nn.MaxPool2d(2),\n",
        "\n",
        "        nn.Conv2d(256, 128, kernel_size=3, stride=1, padding=1),\n",
        "        nn.BatchNorm2d(128),\n",
        "        nn.ReLU(),\n",
        "        nn.Conv2d(128, 128, kernel_size=3, stride=1, padding=1),\n",
        "        nn.BatchNorm2d(128),\n",
        "        nn.ReLU(),\n",
        "        nn.MaxPool2d(2),\n",
        "\n",
        "        nn.Conv2d(128, 64, kernel_size=3, stride=1, padding=1),\n",
        "        nn.BatchNorm2d(64),\n",
        "        nn.ReLU(),\n",
        "        nn.Conv2d(64, 64, kernel_size=3, stride=1, padding=1),\n",
        "        nn.BatchNorm2d(64),\n",
        "        nn.ReLU(),\n",
        "        nn.MaxPool2d(2),\n",
        "\n",
        "        nn.Conv2d(64, 32, kernel_size=3, stride=1, padding=1),\n",
        "        nn.BatchNorm2d(32),\n",
        "        nn.ReLU(),\n",
        "        nn.Conv2d(32, 32, kernel_size=3, stride=1, padding=1),\n",
        "        nn.BatchNorm2d(32),\n",
        "        nn.ReLU(),\n",
        "        nn.MaxPool2d(2),\n",
        "\n",
        "        nn.Conv2d(32, 16, kernel_size=3, stride=1, padding=1),\n",
        "        nn.BatchNorm2d(16),\n",
        "        nn.ReLU(),\n",
        "        nn.Conv2d(16, 16, kernel_size=3, stride=1, padding=1),\n",
        "        nn.BatchNorm2d(16),\n",
        "        nn.ReLU(),\n",
        "        nn.MaxPool2d(2),\n",
        "\n",
        "        nn.Flatten(),\n",
        "        nn.Linear(784, 1),\n",
        "    )\n",
        "  def forward(self, x):\n",
        "    return self.model(x)"
      ]
    },
    {
      "cell_type": "code",
      "execution_count": null,
      "metadata": {
        "colab": {
          "base_uri": "https://localhost:8080/"
        },
        "id": "LZOICNKqEpJh",
        "outputId": "9c405998-1904-4157-8132-f1844d763f73"
      },
      "outputs": [
        {
          "data": {
            "text/plain": [
              "device(type='cuda', index=0)"
            ]
          },
          "execution_count": 26,
          "metadata": {},
          "output_type": "execute_result"
        }
      ],
      "source": [
        "device = torch.device(\"cuda:0\" if torch.cuda.is_available() else \"cpu\")\n",
        "device"
      ]
    },
    {
      "cell_type": "code",
      "execution_count": null,
      "metadata": {
        "colab": {
          "base_uri": "https://localhost:8080/"
        },
        "id": "y9t8UbWHBUwv",
        "outputId": "c99e7637-d582-4246-c8af-40543bd5529c"
      },
      "outputs": [
        {
          "name": "stdout",
          "output_type": "stream",
          "text": [
            "----------------------------------------------------------------\n",
            "        Layer (type)               Output Shape         Param #\n",
            "================================================================\n",
            "            Conv2d-1        [-1, 256, 250, 250]           7,168\n",
            "       BatchNorm2d-2        [-1, 256, 250, 250]             512\n",
            "              ReLU-3        [-1, 256, 250, 250]               0\n",
            "            Conv2d-4        [-1, 256, 250, 250]         590,080\n",
            "       BatchNorm2d-5        [-1, 256, 250, 250]             512\n",
            "              ReLU-6        [-1, 256, 250, 250]               0\n",
            "         MaxPool2d-7        [-1, 256, 125, 125]               0\n",
            "            Conv2d-8        [-1, 128, 125, 125]         295,040\n",
            "       BatchNorm2d-9        [-1, 128, 125, 125]             256\n",
            "             ReLU-10        [-1, 128, 125, 125]               0\n",
            "           Conv2d-11        [-1, 128, 125, 125]         147,584\n",
            "      BatchNorm2d-12        [-1, 128, 125, 125]             256\n",
            "             ReLU-13        [-1, 128, 125, 125]               0\n",
            "        MaxPool2d-14          [-1, 128, 62, 62]               0\n",
            "           Conv2d-15           [-1, 64, 62, 62]          73,792\n",
            "      BatchNorm2d-16           [-1, 64, 62, 62]             128\n",
            "             ReLU-17           [-1, 64, 62, 62]               0\n",
            "           Conv2d-18           [-1, 64, 62, 62]          36,928\n",
            "      BatchNorm2d-19           [-1, 64, 62, 62]             128\n",
            "             ReLU-20           [-1, 64, 62, 62]               0\n",
            "        MaxPool2d-21           [-1, 64, 31, 31]               0\n",
            "           Conv2d-22           [-1, 32, 31, 31]          18,464\n",
            "      BatchNorm2d-23           [-1, 32, 31, 31]              64\n",
            "             ReLU-24           [-1, 32, 31, 31]               0\n",
            "           Conv2d-25           [-1, 32, 31, 31]           9,248\n",
            "      BatchNorm2d-26           [-1, 32, 31, 31]              64\n",
            "             ReLU-27           [-1, 32, 31, 31]               0\n",
            "        MaxPool2d-28           [-1, 32, 15, 15]               0\n",
            "           Conv2d-29           [-1, 16, 15, 15]           4,624\n",
            "      BatchNorm2d-30           [-1, 16, 15, 15]              32\n",
            "             ReLU-31           [-1, 16, 15, 15]               0\n",
            "           Conv2d-32           [-1, 16, 15, 15]           2,320\n",
            "      BatchNorm2d-33           [-1, 16, 15, 15]              32\n",
            "             ReLU-34           [-1, 16, 15, 15]               0\n",
            "        MaxPool2d-35             [-1, 16, 7, 7]               0\n",
            "          Flatten-36                  [-1, 784]               0\n",
            "           Linear-37                    [-1, 1]             785\n",
            "================================================================\n",
            "Total params: 1,188,017\n",
            "Trainable params: 1,188,017\n",
            "Non-trainable params: 0\n",
            "----------------------------------------------------------------\n",
            "Input size (MB): 0.72\n",
            "Forward/backward pass size (MB): 871.62\n",
            "Params size (MB): 4.53\n",
            "Estimated Total Size (MB): 876.86\n",
            "----------------------------------------------------------------\n"
          ]
        }
      ],
      "source": [
        "model = Model().to(device)\n",
        "summary(model, (3, 250, 250))"
      ]
    },
    {
      "cell_type": "code",
      "source": [],
      "metadata": {
        "colab": {
          "base_uri": "https://localhost:8080/",
          "height": 193
        },
        "id": "SiqT_I1DWy5Z",
        "outputId": "52394021-0352-4360-8244-de40f55d5d84"
      },
      "execution_count": null,
      "outputs": [
        {
          "output_type": "error",
          "ename": "NameError",
          "evalue": "name 'tf' is not defined",
          "traceback": [
            "\u001b[0;31m---------------------------------------------------------------------------\u001b[0m",
            "\u001b[0;31mNameError\u001b[0m                                 Traceback (most recent call last)",
            "\u001b[0;32m<ipython-input-62-7c27dc1c7402>\u001b[0m in \u001b[0;36m<cell line: 1>\u001b[0;34m()\u001b[0m\n\u001b[0;32m----> 1\u001b[0;31m model.compile(loss=tf.keras.losses.mse,\n\u001b[0m\u001b[1;32m      2\u001b[0m                 \u001b[0moptimizer\u001b[0m\u001b[0;34m=\u001b[0m\u001b[0mtf\u001b[0m\u001b[0;34m.\u001b[0m\u001b[0mkeras\u001b[0m\u001b[0;34m.\u001b[0m\u001b[0moptimizers\u001b[0m\u001b[0;34m.\u001b[0m\u001b[0mAdam\u001b[0m\u001b[0;34m(\u001b[0m\u001b[0mlr\u001b[0m\u001b[0;34m=\u001b[0m\u001b[0;36m0.002\u001b[0m\u001b[0;34m)\u001b[0m\u001b[0;34m,\u001b[0m\u001b[0;34m\u001b[0m\u001b[0;34m\u001b[0m\u001b[0m\n\u001b[1;32m      3\u001b[0m                 metrics=[\"mse\"])\n\u001b[1;32m      4\u001b[0m \u001b[0mearly_stopping\u001b[0m\u001b[0;34m=\u001b[0m\u001b[0mtf\u001b[0m\u001b[0;34m.\u001b[0m\u001b[0mkeras\u001b[0m\u001b[0;34m.\u001b[0m\u001b[0mcallbacks\u001b[0m\u001b[0;34m.\u001b[0m\u001b[0mEarlyStopping\u001b[0m\u001b[0;34m(\u001b[0m\u001b[0mmonitor\u001b[0m\u001b[0;34m=\u001b[0m\u001b[0;34m\"loss\"\u001b[0m\u001b[0;34m,\u001b[0m\u001b[0mpatience\u001b[0m\u001b[0;34m=\u001b[0m\u001b[0;36m10\u001b[0m\u001b[0;34m,\u001b[0m\u001b[0mmode\u001b[0m\u001b[0;34m=\u001b[0m\u001b[0;34m'min'\u001b[0m\u001b[0;34m)\u001b[0m\u001b[0;34m\u001b[0m\u001b[0;34m\u001b[0m\u001b[0m\n",
            "\u001b[0;31mNameError\u001b[0m: name 'tf' is not defined"
          ]
        }
      ]
    },
    {
      "cell_type": "code",
      "execution_count": null,
      "metadata": {
        "id": "LdtlXb-CD-S-"
      },
      "outputs": [],
      "source": [
        "loss_per_iteration = []\n",
        "def train_batch(epochs, model, criterion, optimizer, train_loader):\n",
        "  total = 0\n",
        "  correct = 0\n",
        "  for i in range(epochs):\n",
        "    train_loss = 0.0\n",
        "    for inputs, labels in train_loader:\n",
        "      inputs, labels = inputs.to(device), labels.to(device)\n",
        "      outputs = model(inputs)\n",
        "      labels = torch.unsqueeze(labels, 1)\n",
        "      loss = criterion(outputs, labels)\n",
        "      optimizer.zero_grad()\n",
        "      loss.backward()\n",
        "      optimizer.step()\n",
        "      train_loss = train_loss + loss.item()\n",
        "\n",
        "    print(f\"Epoch: {i}/{epochs} Loss: {train_loss/len(train_loader):.5f} \")\n",
        "    loss_per_iteration.append(train_loss/len(train_loader))\n",
        "\n",
        "\n",
        "\n"
      ]
    },
    {
      "cell_type": "code",
      "execution_count": null,
      "metadata": {
        "colab": {
          "base_uri": "https://localhost:8080/"
        },
        "id": "Ap5p8V5zW-yv",
        "outputId": "a6bb2916-dae5-4a76-88d6-b7673d1dd4dd"
      },
      "outputs": [
        {
          "output_type": "stream",
          "name": "stdout",
          "text": [
            "Fri Apr 19 18:07:14 2024       \n",
            "+---------------------------------------------------------------------------------------+\n",
            "| NVIDIA-SMI 535.104.05             Driver Version: 535.104.05   CUDA Version: 12.2     |\n",
            "|-----------------------------------------+----------------------+----------------------+\n",
            "| GPU  Name                 Persistence-M | Bus-Id        Disp.A | Volatile Uncorr. ECC |\n",
            "| Fan  Temp   Perf          Pwr:Usage/Cap |         Memory-Usage | GPU-Util  Compute M. |\n",
            "|                                         |                      |               MIG M. |\n",
            "|=========================================+======================+======================|\n",
            "|   0  Tesla T4                       Off | 00000000:00:04.0 Off |                    0 |\n",
            "| N/A   62C    P0              29W /  70W |   3465MiB / 15360MiB |      0%      Default |\n",
            "|                                         |                      |                  N/A |\n",
            "+-----------------------------------------+----------------------+----------------------+\n",
            "                                                                                         \n",
            "+---------------------------------------------------------------------------------------+\n",
            "| Processes:                                                                            |\n",
            "|  GPU   GI   CI        PID   Type   Process name                            GPU Memory |\n",
            "|        ID   ID                                                             Usage      |\n",
            "|=======================================================================================|\n",
            "+---------------------------------------------------------------------------------------+\n"
          ]
        }
      ],
      "source": [
        "gpu_info = !nvidia-smi\n",
        "gpu_info = '\\n'.join(gpu_info)\n",
        "if gpu_info.find('failed') >= 0:\n",
        "  print('Not connected to a GPU')\n",
        "else:\n",
        "  print(gpu_info)"
      ]
    },
    {
      "cell_type": "code",
      "execution_count": null,
      "metadata": {
        "colab": {
          "base_uri": "https://localhost:8080/"
        },
        "id": "6qt-U6zLLLdH",
        "outputId": "e34e8cb3-24b5-4c50-c122-11071bf06b7e"
      },
      "outputs": [
        {
          "output_type": "stream",
          "name": "stdout",
          "text": [
            "Epoch: 0/200 Loss: 2559.79333 \n",
            "Epoch: 1/200 Loss: 835.74055 \n",
            "Epoch: 2/200 Loss: 504.79002 \n",
            "Epoch: 3/200 Loss: 429.46254 \n",
            "Epoch: 4/200 Loss: 444.98124 \n",
            "Epoch: 5/200 Loss: 419.69786 \n",
            "Epoch: 6/200 Loss: 410.59556 \n",
            "Epoch: 7/200 Loss: 370.03106 \n",
            "Epoch: 8/200 Loss: 334.64954 \n",
            "Epoch: 9/200 Loss: 304.57251 \n",
            "Epoch: 10/200 Loss: 343.28176 \n",
            "Epoch: 11/200 Loss: 326.63221 \n",
            "Epoch: 12/200 Loss: 305.91491 \n",
            "Epoch: 13/200 Loss: 297.47961 \n",
            "Epoch: 14/200 Loss: 320.32428 \n",
            "Epoch: 15/200 Loss: 257.73795 \n",
            "Epoch: 16/200 Loss: 330.63439 \n",
            "Epoch: 17/200 Loss: 276.16215 \n",
            "Epoch: 18/200 Loss: 251.77244 \n",
            "Epoch: 19/200 Loss: 276.51830 \n",
            "Epoch: 20/200 Loss: 284.68676 \n",
            "Epoch: 21/200 Loss: 210.25346 \n",
            "Epoch: 22/200 Loss: 214.30789 \n",
            "Epoch: 23/200 Loss: 182.25215 \n",
            "Epoch: 24/200 Loss: 178.35267 \n",
            "Epoch: 25/200 Loss: 232.36069 \n",
            "Epoch: 26/200 Loss: 181.05463 \n",
            "Epoch: 27/200 Loss: 165.02584 \n",
            "Epoch: 28/200 Loss: 139.32628 \n",
            "Epoch: 29/200 Loss: 139.49277 \n",
            "Epoch: 30/200 Loss: 164.78326 \n",
            "Epoch: 31/200 Loss: 155.15871 \n",
            "Epoch: 32/200 Loss: 136.39439 \n",
            "Epoch: 33/200 Loss: 152.11764 \n",
            "Epoch: 34/200 Loss: 112.98849 \n",
            "Epoch: 35/200 Loss: 107.12182 \n",
            "Epoch: 36/200 Loss: 114.50764 \n",
            "Epoch: 37/200 Loss: 137.30704 \n",
            "Epoch: 38/200 Loss: 103.89449 \n",
            "Epoch: 39/200 Loss: 102.66862 \n",
            "Epoch: 40/200 Loss: 82.75078 \n",
            "Epoch: 41/200 Loss: 92.82357 \n",
            "Epoch: 42/200 Loss: 76.31110 \n",
            "Epoch: 43/200 Loss: 72.11345 \n",
            "Epoch: 44/200 Loss: 101.88528 \n",
            "Epoch: 45/200 Loss: 76.06119 \n",
            "Epoch: 46/200 Loss: 52.65173 \n",
            "Epoch: 47/200 Loss: 54.48028 \n",
            "Epoch: 48/200 Loss: 66.48040 \n",
            "Epoch: 49/200 Loss: 85.50145 \n",
            "Epoch: 50/200 Loss: 76.54008 \n",
            "Epoch: 51/200 Loss: 60.34695 \n",
            "Epoch: 52/200 Loss: 47.98027 \n",
            "Epoch: 53/200 Loss: 40.94393 \n",
            "Epoch: 54/200 Loss: 36.42702 \n",
            "Epoch: 55/200 Loss: 34.28170 \n",
            "Epoch: 56/200 Loss: 42.97987 \n",
            "Epoch: 57/200 Loss: 49.55514 \n",
            "Epoch: 58/200 Loss: 50.07109 \n",
            "Epoch: 59/200 Loss: 66.34551 \n",
            "Epoch: 60/200 Loss: 64.51471 \n",
            "Epoch: 61/200 Loss: 43.30563 \n",
            "Epoch: 62/200 Loss: 37.28468 \n",
            "Epoch: 63/200 Loss: 41.37052 \n",
            "Epoch: 64/200 Loss: 29.01195 \n",
            "Epoch: 65/200 Loss: 30.06911 \n",
            "Epoch: 66/200 Loss: 29.20424 \n",
            "Epoch: 67/200 Loss: 31.81148 \n",
            "Epoch: 68/200 Loss: 33.19624 \n",
            "Epoch: 69/200 Loss: 24.65377 \n",
            "Epoch: 70/200 Loss: 29.55461 \n",
            "Epoch: 71/200 Loss: 24.61041 \n",
            "Epoch: 72/200 Loss: 25.02479 \n",
            "Epoch: 73/200 Loss: 22.30062 \n",
            "Epoch: 74/200 Loss: 20.34075 \n",
            "Epoch: 75/200 Loss: 15.38585 \n",
            "Epoch: 76/200 Loss: 16.01827 \n",
            "Epoch: 77/200 Loss: 18.70218 \n",
            "Epoch: 78/200 Loss: 25.14790 \n",
            "Epoch: 79/200 Loss: 22.23857 \n",
            "Epoch: 80/200 Loss: 22.05362 \n",
            "Epoch: 81/200 Loss: 23.36793 \n",
            "Epoch: 82/200 Loss: 19.98473 \n",
            "Epoch: 83/200 Loss: 20.81918 \n",
            "Epoch: 84/200 Loss: 23.14273 \n",
            "Epoch: 85/200 Loss: 20.15851 \n",
            "Epoch: 86/200 Loss: 15.03178 \n",
            "Epoch: 87/200 Loss: 21.90485 \n",
            "Epoch: 88/200 Loss: 18.01443 \n",
            "Epoch: 89/200 Loss: 15.93336 \n",
            "Epoch: 90/200 Loss: 19.87551 \n",
            "Epoch: 91/200 Loss: 31.87456 \n",
            "Epoch: 92/200 Loss: 20.13207 \n",
            "Epoch: 93/200 Loss: 18.98104 \n",
            "Epoch: 94/200 Loss: 18.97948 \n",
            "Epoch: 95/200 Loss: 14.91766 \n",
            "Epoch: 96/200 Loss: 16.60208 \n",
            "Epoch: 97/200 Loss: 20.89334 \n",
            "Epoch: 98/200 Loss: 18.31334 \n",
            "Epoch: 99/200 Loss: 19.15658 \n",
            "Epoch: 100/200 Loss: 14.00737 \n",
            "Epoch: 101/200 Loss: 13.99772 \n",
            "Epoch: 102/200 Loss: 17.74326 \n",
            "Epoch: 103/200 Loss: 19.46502 \n",
            "Epoch: 104/200 Loss: 17.35503 \n",
            "Epoch: 105/200 Loss: 16.38040 \n",
            "Epoch: 106/200 Loss: 18.45021 \n",
            "Epoch: 107/200 Loss: 18.05775 \n",
            "Epoch: 108/200 Loss: 17.40093 \n",
            "Epoch: 109/200 Loss: 12.49153 \n",
            "Epoch: 110/200 Loss: 12.61135 \n",
            "Epoch: 111/200 Loss: 10.79645 \n",
            "Epoch: 112/200 Loss: 11.49614 \n",
            "Epoch: 113/200 Loss: 12.60552 \n",
            "Epoch: 114/200 Loss: 12.59252 \n",
            "Epoch: 115/200 Loss: 9.24924 \n",
            "Epoch: 116/200 Loss: 10.96060 \n",
            "Epoch: 117/200 Loss: 14.47809 \n",
            "Epoch: 118/200 Loss: 8.65476 \n",
            "Epoch: 119/200 Loss: 10.52575 \n",
            "Epoch: 120/200 Loss: 13.25725 \n",
            "Epoch: 121/200 Loss: 13.61925 \n",
            "Epoch: 122/200 Loss: 15.08366 \n",
            "Epoch: 123/200 Loss: 22.25464 \n",
            "Epoch: 124/200 Loss: 14.31123 \n",
            "Epoch: 125/200 Loss: 16.51492 \n",
            "Epoch: 126/200 Loss: 9.71813 \n",
            "Epoch: 127/200 Loss: 12.32025 \n",
            "Epoch: 128/200 Loss: 12.66515 \n",
            "Epoch: 129/200 Loss: 13.06581 \n",
            "Epoch: 130/200 Loss: 12.56753 \n",
            "Epoch: 131/200 Loss: 8.52335 \n",
            "Epoch: 132/200 Loss: 13.39045 \n",
            "Epoch: 133/200 Loss: 14.40926 \n",
            "Epoch: 134/200 Loss: 18.42902 \n",
            "Epoch: 135/200 Loss: 13.69232 \n",
            "Epoch: 136/200 Loss: 11.31144 \n",
            "Epoch: 137/200 Loss: 11.86566 \n",
            "Epoch: 138/200 Loss: 15.15443 \n",
            "Epoch: 139/200 Loss: 16.48901 \n",
            "Epoch: 140/200 Loss: 12.37370 \n",
            "Epoch: 141/200 Loss: 11.57879 \n",
            "Epoch: 142/200 Loss: 11.77934 \n",
            "Epoch: 143/200 Loss: 11.89383 \n",
            "Epoch: 144/200 Loss: 13.21283 \n",
            "Epoch: 145/200 Loss: 9.45537 \n",
            "Epoch: 146/200 Loss: 9.32444 \n",
            "Epoch: 147/200 Loss: 11.02578 \n",
            "Epoch: 148/200 Loss: 15.02893 \n",
            "Epoch: 149/200 Loss: 12.20909 \n",
            "Epoch: 150/200 Loss: 16.82822 \n",
            "Epoch: 151/200 Loss: 11.47132 \n",
            "Epoch: 152/200 Loss: 10.51655 \n",
            "Epoch: 153/200 Loss: 12.11541 \n",
            "Epoch: 154/200 Loss: 11.64030 \n",
            "Epoch: 155/200 Loss: 11.33136 \n",
            "Epoch: 156/200 Loss: 14.13684 \n",
            "Epoch: 157/200 Loss: 11.97714 \n",
            "Epoch: 158/200 Loss: 10.61552 \n",
            "Epoch: 159/200 Loss: 19.68482 \n",
            "Epoch: 160/200 Loss: 15.23890 \n",
            "Epoch: 161/200 Loss: 13.16020 \n",
            "Epoch: 162/200 Loss: 17.76380 \n",
            "Epoch: 163/200 Loss: 12.76082 \n",
            "Epoch: 164/200 Loss: 13.63947 \n",
            "Epoch: 165/200 Loss: 11.94643 \n",
            "Epoch: 166/200 Loss: 12.21459 \n",
            "Epoch: 167/200 Loss: 12.70739 \n",
            "Epoch: 168/200 Loss: 12.83672 \n",
            "Epoch: 169/200 Loss: 14.23369 \n",
            "Epoch: 170/200 Loss: 14.21033 \n",
            "Epoch: 171/200 Loss: 15.50648 \n",
            "Epoch: 172/200 Loss: 13.88033 \n",
            "Epoch: 173/200 Loss: 12.87358 \n",
            "Epoch: 174/200 Loss: 10.49996 \n",
            "Epoch: 175/200 Loss: 10.55478 \n",
            "Epoch: 176/200 Loss: 9.35166 \n",
            "Epoch: 177/200 Loss: 12.77445 \n",
            "Epoch: 178/200 Loss: 12.04286 \n",
            "Epoch: 179/200 Loss: 8.68599 \n",
            "Epoch: 180/200 Loss: 8.81412 \n",
            "Epoch: 181/200 Loss: 8.05057 \n",
            "Epoch: 182/200 Loss: 7.27785 \n",
            "Epoch: 183/200 Loss: 8.51392 \n",
            "Epoch: 184/200 Loss: 8.55186 \n",
            "Epoch: 185/200 Loss: 8.34419 \n",
            "Epoch: 186/200 Loss: 7.09130 \n",
            "Epoch: 187/200 Loss: 6.75035 \n",
            "Epoch: 188/200 Loss: 6.39387 \n",
            "Epoch: 189/200 Loss: 8.48138 \n",
            "Epoch: 190/200 Loss: 8.05640 \n",
            "Epoch: 191/200 Loss: 11.15145 \n",
            "Epoch: 192/200 Loss: 10.79877 \n",
            "Epoch: 193/200 Loss: 7.38797 \n",
            "Epoch: 194/200 Loss: 10.06262 \n",
            "Epoch: 195/200 Loss: 16.57774 \n",
            "Epoch: 196/200 Loss: 15.63144 \n",
            "Epoch: 197/200 Loss: 14.04977 \n",
            "Epoch: 198/200 Loss: 15.69482 \n",
            "Epoch: 199/200 Loss: 16.77257 \n"
          ]
        }
      ],
      "source": [
        "model = Model().to(device)\n",
        "criterion = nn.MSELoss()\n",
        "optimizer = torch.optim.Adam(model.parameters(), lr =0.001)\n",
        "\n",
        "model_1=train_batch(epochs=200,\n",
        "            model=model,\n",
        "            criterion=criterion,\n",
        "            optimizer=optimizer,\n",
        "            train_loader = data_loader)\n"
      ]
    },
    {
      "cell_type": "code",
      "source": [],
      "metadata": {
        "colab": {
          "base_uri": "https://localhost:8080/",
          "height": 141
        },
        "id": "g0HSYefSf9po",
        "outputId": "f723b67f-de4f-4fee-a1b9-ca29fab3e20f"
      },
      "execution_count": null,
      "outputs": [
        {
          "output_type": "error",
          "ename": "NameError",
          "evalue": "name 'loss' is not defined",
          "traceback": [
            "\u001b[0;31m---------------------------------------------------------------------------\u001b[0m",
            "\u001b[0;31mNameError\u001b[0m                                 Traceback (most recent call last)",
            "\u001b[0;32m<ipython-input-70-0c61d5cb175e>\u001b[0m in \u001b[0;36m<cell line: 1>\u001b[0;34m()\u001b[0m\n\u001b[0;32m----> 1\u001b[0;31m \u001b[0mprint\u001b[0m\u001b[0;34m(\u001b[0m\u001b[0;34mf'MSE Loss: {loss}'\u001b[0m\u001b[0;34m)\u001b[0m\u001b[0;34m\u001b[0m\u001b[0;34m\u001b[0m\u001b[0m\n\u001b[0m",
            "\u001b[0;31mNameError\u001b[0m: name 'loss' is not defined"
          ]
        }
      ]
    },
    {
      "cell_type": "code",
      "source": [
        "x=[0,1,2,3,4,5,6,7,8,9,10,11,12,13,14,15,16,17,18,19,20,21,22,23,24,25,26,27,28,29,30,31,32,33,34,35,36,37,38,39]\n",
        "y=  [ 2678.71305,776.71392, 440.02365 ,416.47497 ,425.11474 ,406.85648 , 386.90191 , 376.91646 ,335.45715 ,374.32649 , 303.01744 , 317.32849 ,262.85098 ,326.33722 ,271.75574 ,238.62566 ,224.74439 ,222.14368 ,229.70347 ,183.41095 ,196.61157 ,183.94779 ,188.02647 ,180.47016 ,216.44101 ,145.90688 ,159.73261 ,146.46019 ,144.15068,113.97971 , 149.65343 , 109.05124 ,104.45637, 102.18293, 80.52142, 93.74305 ,86.38584 ,90.70877 ,77.75462 , 66.51194 ]\n",
        "\n",
        "plt.plot(x,y)\n",
        "plt.title('model loss')\n",
        "plt.ylabel('loss')\n",
        "plt.xlabel('epoch')\n",
        "plt.show()"
      ],
      "metadata": {
        "colab": {
          "base_uri": "https://localhost:8080/",
          "height": 472
        },
        "id": "-S9f_RMMPDJC",
        "outputId": "709f4397-f812-4f9c-8f94-9780ae57ff2c"
      },
      "execution_count": null,
      "outputs": [
        {
          "output_type": "display_data",
          "data": {
            "text/plain": [
              "<Figure size 640x480 with 1 Axes>"
            ],
            "image/png": "[encoded data removed]"
          },
          "metadata": {}
        }
      ]
    },
    {
      "cell_type": "code",
      "execution_count": null,
      "metadata": {
        "colab": {
          "base_uri": "https://localhost:8080/"
        },
        "id": "uoCL0OdAAZ66",
        "outputId": "dc16b5b3-7398-41bf-ec2a-285a183cc4e3"
      },
      "outputs": [
        {
          "output_type": "execute_result",
          "data": {
            "text/plain": [
              "Model(\n",
              "  (model): Sequential(\n",
              "    (0): Conv2d(3, 256, kernel_size=(3, 3), stride=(1, 1), padding=(1, 1))\n",
              "    (1): BatchNorm2d(256, eps=1e-05, momentum=0.1, affine=True, track_running_stats=True)\n",
              "    (2): ReLU()\n",
              "    (3): Conv2d(256, 256, kernel_size=(3, 3), stride=(1, 1), padding=(1, 1))\n",
              "    (4): BatchNorm2d(256, eps=1e-05, momentum=0.1, affine=True, track_running_stats=True)\n",
              "    (5): ReLU()\n",
              "    (6): MaxPool2d(kernel_size=2, stride=2, padding=0, dilation=1, ceil_mode=False)\n",
              "    (7): Conv2d(256, 128, kernel_size=(3, 3), stride=(1, 1), padding=(1, 1))\n",
              "    (8): BatchNorm2d(128, eps=1e-05, momentum=0.1, affine=True, track_running_stats=True)\n",
              "    (9): ReLU()\n",
              "    (10): Conv2d(128, 128, kernel_size=(3, 3), stride=(1, 1), padding=(1, 1))\n",
              "    (11): BatchNorm2d(128, eps=1e-05, momentum=0.1, affine=True, track_running_stats=True)\n",
              "    (12): ReLU()\n",
              "    (13): MaxPool2d(kernel_size=2, stride=2, padding=0, dilation=1, ceil_mode=False)\n",
              "    (14): Conv2d(128, 64, kernel_size=(3, 3), stride=(1, 1), padding=(1, 1))\n",
              "    (15): BatchNorm2d(64, eps=1e-05, momentum=0.1, affine=True, track_running_stats=True)\n",
              "    (16): ReLU()\n",
              "    (17): Conv2d(64, 64, kernel_size=(3, 3), stride=(1, 1), padding=(1, 1))\n",
              "    (18): BatchNorm2d(64, eps=1e-05, momentum=0.1, affine=True, track_running_stats=True)\n",
              "    (19): ReLU()\n",
              "    (20): MaxPool2d(kernel_size=2, stride=2, padding=0, dilation=1, ceil_mode=False)\n",
              "    (21): Conv2d(64, 32, kernel_size=(3, 3), stride=(1, 1), padding=(1, 1))\n",
              "    (22): BatchNorm2d(32, eps=1e-05, momentum=0.1, affine=True, track_running_stats=True)\n",
              "    (23): ReLU()\n",
              "    (24): Conv2d(32, 32, kernel_size=(3, 3), stride=(1, 1), padding=(1, 1))\n",
              "    (25): BatchNorm2d(32, eps=1e-05, momentum=0.1, affine=True, track_running_stats=True)\n",
              "    (26): ReLU()\n",
              "    (27): MaxPool2d(kernel_size=2, stride=2, padding=0, dilation=1, ceil_mode=False)\n",
              "    (28): Conv2d(32, 16, kernel_size=(3, 3), stride=(1, 1), padding=(1, 1))\n",
              "    (29): BatchNorm2d(16, eps=1e-05, momentum=0.1, affine=True, track_running_stats=True)\n",
              "    (30): ReLU()\n",
              "    (31): Conv2d(16, 16, kernel_size=(3, 3), stride=(1, 1), padding=(1, 1))\n",
              "    (32): BatchNorm2d(16, eps=1e-05, momentum=0.1, affine=True, track_running_stats=True)\n",
              "    (33): ReLU()\n",
              "    (34): MaxPool2d(kernel_size=2, stride=2, padding=0, dilation=1, ceil_mode=False)\n",
              "    (35): Flatten(start_dim=1, end_dim=-1)\n",
              "    (36): Linear(in_features=784, out_features=1, bias=True)\n",
              "  )\n",
              ")"
            ]
          },
          "metadata": {},
          "execution_count": 81
        }
      ],
      "source": [
        "model.eval()"
      ]
    },
    {
      "cell_type": "code",
      "execution_count": null,
      "metadata": {
        "colab": {
          "base_uri": "https://localhost:8080/"
        },
        "id": "e1FftiTTb93b",
        "outputId": "5e53fd22-e8ac-45d6-c980-d0bf1b99edfa"
      },
      "outputs": [
        {
          "output_type": "execute_result",
          "data": {
            "text/plain": [
              "tensor([[118.8159]], device='cuda:0', grad_fn=<AddmmBackward0>)"
            ]
          },
          "metadata": {},
          "execution_count": 82
        }
      ],
      "source": [
        "img = cv2.imread('/content/drive/MyDrive/Cyclotech/insat3d_ir_cyclone_ds/CYCLONE_DATASET_INFRARED/112.jpg')\n",
        "img = np.array(img)\n",
        "totensor = transforms.ToTensor()\n",
        "img = totensor(img)\n",
        "resize = transforms.Resize(size=(248, 248))\n",
        "img = resize(img)\n",
        "img = torch.unsqueeze(img, 0)\n",
        "img = img.to(device)\n",
        "model(img)"
      ]
    },
    {
      "cell_type": "code",
      "execution_count": null,
      "metadata": {
        "id": "gnK2zHC3fZeG"
      },
      "outputs": [],
      "source": [
        "#96-112knots"
      ]
    },
    {
      "cell_type": "code",
      "execution_count": null,
      "metadata": {
        "colab": {
          "base_uri": "https://localhost:8080/"
        },
        "id": "oYtRqg7yEFBW",
        "outputId": "e18122a8-85ac-42d3-a7d1-734bd69e5579"
      },
      "outputs": [
        {
          "output_type": "execute_result",
          "data": {
            "text/plain": [
              "tensor([[51.6460]], device='cuda:0', grad_fn=<AddmmBackward0>)"
            ]
          },
          "metadata": {},
          "execution_count": 83
        }
      ],
      "source": [
        "img = cv2.imread('/content/drive/MyDrive/Cyclotech/insat3d_ir_cyclone_ds/CYCLONE_DATASET_INFRARED/43(2).jpg')\n",
        "img = np.array(img)\n",
        "totensor = transforms.ToTensor()\n",
        "img = totensor(img)\n",
        "resize = transforms.Resize(size=(248, 248))\n",
        "img = resize(img)\n",
        "img = torch.unsqueeze(img, 0)\n",
        "img = img.to(device)\n",
        "model(img)"
      ]
    },
    {
      "cell_type": "code",
      "execution_count": null,
      "metadata": {
        "colab": {
          "base_uri": "https://localhost:8080/"
        },
        "id": "MJlPPyZxDVAV",
        "outputId": "aa9aece1-7db7-4a2e-af09-e2851e871d92"
      },
      "outputs": [
        {
          "name": "stdout",
          "output_type": "stream",
          "text": [
            "\u001b[31mERROR: Could not find a version that satisfies the requirement internal.utils.misc (from versions: none)\u001b[0m\u001b[31m\n",
            "\u001b[0m\u001b[31mERROR: No matching distribution found for internal.utils.misc\u001b[0m\u001b[31m\n",
            "\u001b[0m"
          ]
        }
      ],
      "source": [
        "!pip install internal.utils.misc"
      ]
    },
    {
      "cell_type": "code",
      "execution_count": null,
      "metadata": {
        "colab": {
          "base_uri": "https://localhost:8080/",
          "height": 456
        },
        "id": "wtdIKlL_XtSQ",
        "outputId": "f4daafd3-2f8f-41bd-dd00-cf8d63598196"
      },
      "outputs": [
        {
          "name": "stderr",
          "output_type": "stream",
          "text": [
            "/usr/local/lib/python3.10/dist-packages/_distutils_hack/__init__.py:33: UserWarning: Setuptools is replacing distutils.\n",
            "  warnings.warn(\"Setuptools is replacing distutils.\")\n"
          ]
        },
        {
          "ename": "ImportError",
          "evalue": "cannot import name 'get_installed_distributions' from 'pip._internal.utils.misc' (/usr/local/lib/python3.10/dist-packages/pip/_internal/utils/misc.py)",
          "output_type": "error",
          "traceback": [
            "\u001b[0;31m---------------------------------------------------------------------------\u001b[0m",
            "\u001b[0;31mImportError\u001b[0m                               Traceback (most recent call last)",
            "\u001b[0;32m<ipython-input-33-59e5029b7804>\u001b[0m in \u001b[0;36m<cell line: 1>\u001b[0;34m()\u001b[0m\n\u001b[0;32m----> 1\u001b[0;31m \u001b[0;32mfrom\u001b[0m \u001b[0mpip\u001b[0m\u001b[0;34m.\u001b[0m\u001b[0m_internal\u001b[0m\u001b[0;34m.\u001b[0m\u001b[0mutils\u001b[0m\u001b[0;34m.\u001b[0m\u001b[0mmisc\u001b[0m \u001b[0;32mimport\u001b[0m \u001b[0mget_installed_distributions\u001b[0m\u001b[0;34m\u001b[0m\u001b[0;34m\u001b[0m\u001b[0m\n\u001b[0m\u001b[1;32m      2\u001b[0m \u001b[0;32mimport\u001b[0m \u001b[0msys\u001b[0m\u001b[0;34m\u001b[0m\u001b[0;34m\u001b[0m\u001b[0m\n\u001b[1;32m      3\u001b[0m \u001b[0;31m#import numpy as np # imported to test whether numpy shows up, which it does!\u001b[0m\u001b[0;34m\u001b[0m\u001b[0;34m\u001b[0m\u001b[0m\n\u001b[1;32m      4\u001b[0m \u001b[0;34m\u001b[0m\u001b[0m\n\u001b[1;32m      5\u001b[0m \u001b[0;32mdef\u001b[0m \u001b[0mget_imported_packages\u001b[0m\u001b[0;34m(\u001b[0m\u001b[0;34m)\u001b[0m\u001b[0;34m:\u001b[0m\u001b[0;34m\u001b[0m\u001b[0;34m\u001b[0m\u001b[0m\n",
            "\u001b[0;31mImportError\u001b[0m: cannot import name 'get_installed_distributions' from 'pip._internal.utils.misc' (/usr/local/lib/python3.10/dist-packages/pip/_internal/utils/misc.py)",
            "",
            "\u001b[0;31m---------------------------------------------------------------------------\u001b[0;32m\nNOTE: If your import is failing due to a missing package, you can\nmanually install dependencies using either !pip or !apt.\n\nTo view examples of installing some common dependencies, click the\n\"Open Examples\" button below.\n\u001b[0;31m---------------------------------------------------------------------------\u001b[0m\n"
          ]
        }
      ],
      "source": [
        "from pip._internal.utils.misc import get_installed_distributions\n",
        "import sys\n",
        "#import numpy as np # imported to test whether numpy shows up, which it does!\n",
        "\n",
        "def get_imported_packages():\n",
        "    p = get_installed_distributions()\n",
        "    p = {package.key:package.version for package in p}\n",
        "\n",
        "    imported_modules = set(sys.modules.keys())\n",
        "\n",
        "    imported_modules.remove('pip')\n",
        "\n",
        "    modules = [(m, p[m]) for m in imported_modules if p.get(m, False)]\n",
        "\n",
        "    return modules\n",
        "\n",
        "\n",
        "def generate_requirements(filepath:str, modules):\n",
        "    with open(filepath, 'w') as f:\n",
        "        for module, version in modules:\n",
        "            f.write(f\"{module}=={version}\")\n",
        "\n",
        "\n",
        "generate_requirements('requirements.txt', get_imported_packages())"
      ]
    },
    {
      "cell_type": "code",
      "execution_count": null,
      "metadata": {
        "id": "8C-6sMAlfYru"
      },
      "outputs": [],
      "source": [
        "saved_path = './saved_modelcyclonr'\n",
        "torch.save(model.state_dict(), saved_path)"
      ]
    },
    {
      "cell_type": "code",
      "execution_count": null,
      "metadata": {
        "id": "j9nAGdnx9bAu"
      },
      "outputs": [],
      "source": [
        " torch.save(model.state_dict,'cyclonemodel2.h5')"
      ]
    },
    {
      "cell_type": "code",
      "execution_count": null,
      "metadata": {
        "id": "tgBvMdfaBlep"
      },
      "outputs": [],
      "source": [
        "# torch.save(model.state_dict,'cyclonemodel2.pth')"
      ]
    },
    {
      "cell_type": "code",
      "execution_count": null,
      "metadata": {
        "colab": {
          "base_uri": "https://localhost:8080/"
        },
        "id": "tNTMIkViO-_k",
        "outputId": "95e839a4-0d5b-44ee-eb19-5b9ca2a534c1"
      },
      "outputs": [
        {
          "data": {
            "text/plain": [
              "Model(\n",
              "  (model): Sequential(\n",
              "    (0): Conv2d(3, 256, kernel_size=(3, 3), stride=(1, 1), padding=(1, 1))\n",
              "    (1): BatchNorm2d(256, eps=1e-05, momentum=0.1, affine=True, track_running_stats=True)\n",
              "    (2): ReLU()\n",
              "    (3): Conv2d(256, 256, kernel_size=(3, 3), stride=(1, 1), padding=(1, 1))\n",
              "    (4): BatchNorm2d(256, eps=1e-05, momentum=0.1, affine=True, track_running_stats=True)\n",
              "    (5): ReLU()\n",
              "    (6): MaxPool2d(kernel_size=2, stride=2, padding=0, dilation=1, ceil_mode=False)\n",
              "    (7): Conv2d(256, 128, kernel_size=(3, 3), stride=(1, 1), padding=(1, 1))\n",
              "    (8): BatchNorm2d(128, eps=1e-05, momentum=0.1, affine=True, track_running_stats=True)\n",
              "    (9): ReLU()\n",
              "    (10): Conv2d(128, 128, kernel_size=(3, 3), stride=(1, 1), padding=(1, 1))\n",
              "    (11): BatchNorm2d(128, eps=1e-05, momentum=0.1, affine=True, track_running_stats=True)\n",
              "    (12): ReLU()\n",
              "    (13): MaxPool2d(kernel_size=2, stride=2, padding=0, dilation=1, ceil_mode=False)\n",
              "    (14): Conv2d(128, 64, kernel_size=(3, 3), stride=(1, 1), padding=(1, 1))\n",
              "    (15): BatchNorm2d(64, eps=1e-05, momentum=0.1, affine=True, track_running_stats=True)\n",
              "    (16): ReLU()\n",
              "    (17): Conv2d(64, 64, kernel_size=(3, 3), stride=(1, 1), padding=(1, 1))\n",
              "    (18): BatchNorm2d(64, eps=1e-05, momentum=0.1, affine=True, track_running_stats=True)\n",
              "    (19): ReLU()\n",
              "    (20): MaxPool2d(kernel_size=2, stride=2, padding=0, dilation=1, ceil_mode=False)\n",
              "    (21): Conv2d(64, 32, kernel_size=(3, 3), stride=(1, 1), padding=(1, 1))\n",
              "    (22): BatchNorm2d(32, eps=1e-05, momentum=0.1, affine=True, track_running_stats=True)\n",
              "    (23): ReLU()\n",
              "    (24): Conv2d(32, 32, kernel_size=(3, 3), stride=(1, 1), padding=(1, 1))\n",
              "    (25): BatchNorm2d(32, eps=1e-05, momentum=0.1, affine=True, track_running_stats=True)\n",
              "    (26): ReLU()\n",
              "    (27): MaxPool2d(kernel_size=2, stride=2, padding=0, dilation=1, ceil_mode=False)\n",
              "    (28): Conv2d(32, 16, kernel_size=(3, 3), stride=(1, 1), padding=(1, 1))\n",
              "    (29): BatchNorm2d(16, eps=1e-05, momentum=0.1, affine=True, track_running_stats=True)\n",
              "    (30): ReLU()\n",
              "    (31): Conv2d(16, 16, kernel_size=(3, 3), stride=(1, 1), padding=(1, 1))\n",
              "    (32): BatchNorm2d(16, eps=1e-05, momentum=0.1, affine=True, track_running_stats=True)\n",
              "    (33): ReLU()\n",
              "    (34): MaxPool2d(kernel_size=2, stride=2, padding=0, dilation=1, ceil_mode=False)\n",
              "    (35): Flatten(start_dim=1, end_dim=-1)\n",
              "    (36): Linear(in_features=784, out_features=1, bias=True)\n",
              "  )\n",
              ")"
            ]
          },
          "execution_count": 47,
          "metadata": {},
          "output_type": "execute_result"
        }
      ],
      "source": [
        "model= Model()\n",
        "model.load_state_dict(torch.load('/content/saved_modelcyclonr', map_location=torch.device('cpu')))\n",
        "model.eval()"
      ]
    },
    {
      "cell_type": "code",
      "execution_count": null,
      "metadata": {
        "colab": {
          "base_uri": "https://localhost:8080/"
        },
        "id": "PTyKnbq3n2J8",
        "outputId": "1ce9cb11-0c93-43e6-f98a-ffc7750dbb05"
      },
      "outputs": [
        {
          "data": {
            "text/plain": [
              "tensor([[43.5113]], grad_fn=<AddmmBackward0>)"
            ]
          },
          "execution_count": 48,
          "metadata": {},
          "output_type": "execute_result"
        }
      ],
      "source": [
        "path = '/content/drive/MyDrive/Cyclotech/insat3d_ir_cyclone_ds/CYCLONE_DATASET_INFRARED/30.jpg'\n",
        "img = cv2.imread(path)\n",
        "img = np.array(img)\n",
        "totensor = transforms.ToTensor()\n",
        "img = totensor(img)\n",
        "resize = transforms.Resize(size=(250, 250))\n",
        "img = resize(img)\n",
        "img = torch.unsqueeze(img, 0)\n",
        "# img = img.to(device)\n",
        "model(img)"
      ]
    },
    {
      "cell_type": "code",
      "execution_count": null,
      "metadata": {
        "colab": {
          "base_uri": "https://localhost:8080/"
        },
        "id": "Ai-nQFcdRI0R",
        "outputId": "6f67c8c3-32cf-46a8-b6f3-b0b87db9e2f1"
      },
      "outputs": [
        {
          "data": {
            "text/plain": [
              "tensor([[71.7496]], grad_fn=<AddmmBackward0>)"
            ]
          },
          "execution_count": 49,
          "metadata": {},
          "output_type": "execute_result"
        }
      ],
      "source": [
        "path = '/content/drive/MyDrive/Cyclotech/insat3d_ir_cyclone_ds/CYCLONE_DATASET_INFRARED/94.jpg'\n",
        "img = cv2.imread(path)\n",
        "img = np.array(img)\n",
        "totensor = transforms.ToTensor()\n",
        "img = totensor(img)\n",
        "resize = transforms.Resize(size=(250, 250))\n",
        "img = resize(img)\n",
        "img = torch.unsqueeze(img, 0)\n",
        "# img = img.to(device)\n",
        "model(img)"
      ]
    },
    {
      "cell_type": "code",
      "execution_count": null,
      "metadata": {
        "colab": {
          "base_uri": "https://localhost:8080/",
          "height": 34
        },
        "id": "2VqiO1ee4gEe",
        "outputId": "b582ac9e-00c6-44f8-cd33-986898e6070e"
      },
      "outputs": [
        {
          "data": {
            "application/javascript": [
              "\n",
              "    async function download(id, filename, size) {\n",
              "      if (!google.colab.kernel.accessAllowed) {\n",
              "        return;\n",
              "      }\n",
              "      const div = document.createElement('div');\n",
              "      const label = document.createElement('label');\n",
              "      label.textContent = `Downloading \"${filename}\": `;\n",
              "      div.appendChild(label);\n",
              "      const progress = document.createElement('progress');\n",
              "      progress.max = size;\n",
              "      div.appendChild(progress);\n",
              "      document.body.appendChild(div);\n",
              "\n",
              "      const buffers = [];\n",
              "      let downloaded = 0;\n",
              "\n",
              "      const channel = await google.colab.kernel.comms.open(id);\n",
              "      // Send a message to notify the kernel that we're ready.\n",
              "      channel.send({})\n",
              "\n",
              "      for await (const message of channel.messages) {\n",
              "        // Send a message to notify the kernel that we're ready.\n",
              "        channel.send({})\n",
              "        if (message.buffers) {\n",
              "          for (const buffer of message.buffers) {\n",
              "            buffers.push(buffer);\n",
              "            downloaded += buffer.byteLength;\n",
              "            progress.value = downloaded;\n",
              "          }\n",
              "        }\n",
              "      }\n",
              "      const blob = new Blob(buffers, {type: 'application/binary'});\n",
              "      const a = document.createElement('a');\n",
              "      a.href = window.URL.createObjectURL(blob);\n",
              "      a.download = filename;\n",
              "      div.appendChild(a);\n",
              "      a.click();\n",
              "      div.remove();\n",
              "    }\n",
              "  "
            ],
            "text/plain": [
              "<IPython.core.display.Javascript object>"
            ]
          },
          "metadata": {},
          "output_type": "display_data"
        },
        {
          "data": {
            "application/javascript": [
              "download(\"download_c14e0317-251b-45f1-839d-465117fdbe2d\", \"saved_modelcyclonr\", 4784066)"
            ],
            "text/plain": [
              "<IPython.core.display.Javascript object>"
            ]
          },
          "metadata": {},
          "output_type": "display_data"
        }
      ],
      "source": [
        "from google.colab import files\n",
        "files.download('saved_modelcyclonr')"
      ]
    }
  ],
  "metadata": {
    "accelerator": "GPU",
    "colab": {
      "gpuType": "T4",
      "provenance": [],
      "include_colab_link": true
    },
    "kernelspec": {
      "display_name": "Python 3",
      "name": "python3"
    },
    "language_info": {
      "codemirror_mode": {
        "name": "ipython",
        "version": 3
      },
      "file_extension": ".py",
      "mimetype": "text/x-python",
      "name": "python",
      "nbconvert_exporter": "python",
      "pygments_lexer": "ipython3",
      "version": "3.9.5"
    }
  },
  "nbformat": 4,
  "nbformat_minor": 0
}